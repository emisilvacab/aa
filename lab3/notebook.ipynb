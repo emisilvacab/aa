{
 "cells": [
  {
   "cell_type": "markdown",
   "id": "0d13bbe5-80d1-4879-bc47-d8e366f38456",
   "metadata": {},
   "source": [
    "# **Lunar Lander con Q-Learning**"
   ]
  },
  {
   "cell_type": "markdown",
   "id": "82127016-b75d-4621-a53e-8b2bb63cd3f8",
   "metadata": {},
   "source": [
    "### **1. Bibliotecas**"
   ]
  },
  {
   "cell_type": "code",
   "execution_count": 7,
   "id": "a6e0a19d-696b-440e-84eb-fe2b8761d955",
   "metadata": {},
   "outputs": [
    {
     "name": "stdout",
     "output_type": "stream",
     "text": [
      "zsh:1: no matches found: gymnasium[box2d]\n"
     ]
    }
   ],
   "source": [
    "!pip3 install cmake gymnasium scipy numpy gymnasium[box2d] pygame==2.6.0 swig\n",
    "import sys\n",
    "# Tal vez tengan que ejecutar lo siguiente en sus máquinas (ubuntu 20.04)\n",
    "# sudo apt-get remove swig\n",
    "# sudo apt-get install swig3.0\n",
    "# sudo ln -s /usr/bin/swig3.0 /usr/bin/swig\n",
    "# En windows tambien puede ser necesario MSVC++\n",
    "import gymnasium as gym\n",
    "import numpy as np\n",
    "import matplotlib.pyplot as plt\n",
    "from collections import deque\n",
    "import random"
   ]
  },
  {
   "cell_type": "markdown",
   "id": "9831e9d4-7840-485c-bc38-af987a76de4f",
   "metadata": {},
   "source": [
    "### **2. Jugando a mano**"
   ]
  },
  {
   "cell_type": "markdown",
   "id": "9e744255-5e3f-4c17-b9dc-c6374c2f06c2",
   "metadata": {},
   "source": [
    "A continuación se puede jugar un episodio del lunar lander. Se controlan los motores con el teclado. Notar que solo se puede realizar una acción a la vez (que es parte del problema), y que en esta implementación, izq toma precedencia sobre derecha, que toma precedencia sobre el motor principal."
   ]
  },
  {
   "cell_type": "code",
   "execution_count": null,
   "id": "e58dc2d6",
   "metadata": {},
   "outputs": [],
   "source": [
    "# Nota: hay que transformar esta celda en código para ejecutar (Esc + y)\n",
    "\n",
    "import pygame\n",
    "from pygame.locals import *\n",
    "\n",
    "# Inicializar pygame (para el control con el teclado) y el ambiente\n",
    "pygame.init()\n",
    "env = gym.make('LunarLander-v2', render_mode='human')\n",
    "env.reset()\n",
    "pygame.display.set_caption('Lunar Lander')\n",
    "\n",
    "clock = pygame.time.Clock()\n",
    "done = False\n",
    "\n",
    "while not done:\n",
    "    for event in pygame.event.get():\n",
    "        if event.type == QUIT:\n",
    "            done = True\n",
    "            break\n",
    "\n",
    "    keys = pygame.key.get_pressed()\n",
    "\n",
    "    # Map keys to actions\n",
    "    if keys[K_LEFT]:\n",
    "        action = 3  # Fire left orientation engine\n",
    "    elif keys[K_RIGHT]:\n",
    "        action = 1 # Fire right orientation engine\n",
    "    elif keys[K_UP]:\n",
    "        action = 2  # Fire main engine\n",
    "    else:\n",
    "        action = 0  # Do nothing\n",
    "\n",
    "    _, _, terminated, truncated, _ = env.step(action)\n",
    "    env.render()\n",
    "    clock.tick(10)\n",
    "\n",
    "    if terminated or truncated:\n",
    "        done = True\n",
    "\n",
    "env.close()\n",
    "pygame.quit()"
   ]
  },
  {
   "cell_type": "markdown",
   "id": "d721a629-7f3f-4a70-83c0-e12f43b0f285",
   "metadata": {},
   "source": [
    "## **3. Discretizando el estado**"
   ]
  },
  {
   "cell_type": "markdown",
   "id": "37d35189-3a15-4ceb-b978-38226518092a",
   "metadata": {},
   "source": [
    "El estado consiste de posiciones y velocidades en (x,y,theta) y en información de contacto de los pies con la superficie.\n",
    "\n",
    "Como varios de estos son continuos, tenemos que discretizarlos para aplicar nuestro algoritmo de aprendizaje por refuerzo tabular."
   ]
  },
  {
   "cell_type": "code",
   "execution_count": 8,
   "id": "b7b6bed3-12ba-4d92-8b09-3d3f8429217f",
   "metadata": {},
   "outputs": [],
   "source": [
    "# Cuántos bins queremos por dimensión\n",
    "# Pueden considerar variar este parámetro\n",
    "bins_per_dim = 15\n",
    "\n",
    "# Estado:\n",
    "# (x, y, x_vel, y_vel, theta, theta_vel, pie_izq_en_contacto, pie_derecho_en_contacto)\n",
    "NUM_BINS = [bins_per_dim, bins_per_dim, bins_per_dim, bins_per_dim, bins_per_dim, bins_per_dim, 2, 2]\n",
    "\n",
    "env = gym.make('LunarLander-v2')\n",
    "env.reset()\n",
    "\n",
    "# Tomamos los rangos del env\n",
    "OBS_SPACE_HIGH = env.observation_space.high\n",
    "OBS_SPACE_LOW = env.observation_space.low\n",
    "OBS_SPACE_LOW[1] = 0 # Para la coordenada y (altura), no podemos ir más abajo que la zona dea aterrizae (que está en el 0, 0)\n",
    "\n",
    "# Los bins para cada dimensión\n",
    "bins = [\n",
    "    np.linspace(OBS_SPACE_LOW[i], OBS_SPACE_HIGH[i], NUM_BINS[i] - 1)\n",
    "    for i in range(len(NUM_BINS) - 2) # last two are binary\n",
    "]\n",
    "# Se recomienda observar los bins para entender su estructura\n",
    "# print (\"Bins: \", bins)"
   ]
  },
  {
   "cell_type": "code",
   "execution_count": 3,
   "id": "45bcc921-c5f6-4f06-9702-6e740b26fc6a",
   "metadata": {},
   "outputs": [
    {
     "name": "stdout",
     "output_type": "stream",
     "text": [
      "(np.int64(10), np.int64(1), np.int64(10), np.int64(10), np.int64(10), np.int64(10), 1, 1)\n",
      "(np.int64(10), np.int64(19), np.int64(10), np.int64(10), np.int64(10), np.int64(10), 0, 0)\n"
     ]
    }
   ],
   "source": [
    "# # Ejemplos\n",
    "# print(discretize_state([0.0, 0.0, 0, 0, 0, 0, 1, 1], bins)) # En la zona de aterrizaje y quieto\n",
    "# print(discretize_state([0, 1.5, 0, 0, 0, 0, 0, 0], bins)) # Comenzando la partida, arriba y en el centro"
   ]
  },
  {
   "cell_type": "markdown",
   "id": "779c1576-eff2-4b3c-8069-f6d30243f1e6",
   "metadata": {},
   "source": [
    "## **4. Agentes y la interacción con el entorno**"
   ]
  },
  {
   "cell_type": "markdown",
   "id": "d594f89c-70b1-4c7c-939f-d654a5263f1c",
   "metadata": {},
   "source": [
    "Vamos a definir una interfaz para nuestro agente:"
   ]
  },
  {
   "cell_type": "code",
   "execution_count": 9,
   "id": "93e7059a-7b68-4b13-857b-16e96c5f9793",
   "metadata": {},
   "outputs": [],
   "source": [
    "class Agente:\n",
    "    def elegir_accion(self, estado, max_accion, explorar = True) -> int:\n",
    "        \"\"\"Elegir la accion a tomar en el estado actual y el espacio de acciones\n",
    "            - estado_anterior: el estado desde que se empezó\n",
    "            - estado_siguiente: el estado al que se llegó\n",
    "            - accion: la acción que llevo al agente desde estado_anterior a estado_siguiente\n",
    "            - recompensa: la recompensa recibida en la transicion\n",
    "            - terminado: si el episodio terminó\n",
    "        \"\"\"\n",
    "        pass\n",
    "\n",
    "    def aprender(self, estado_anterior, estado_siguiente, accion, recompensa, terminado):\n",
    "        \"\"\"Aprender a partir de la tupla \n",
    "            - estado_anterior: el estado desde que se empezó\n",
    "            - estado_siguiente: el estado al que se llegó\n",
    "            - accion: la acción que llevo al agente desde estado_anterior a estado_siguiente\n",
    "            - recompensa: la recompensa recibida en la transicion\n",
    "            - terminado: si el episodio terminó en esta transición\n",
    "        \"\"\"\n",
    "        pass\n",
    "\n",
    "    def fin_episodio(self):\n",
    "        \"\"\"Actualizar estructuras al final de un episodio\"\"\"\n",
    "        pass"
   ]
  },
  {
   "cell_type": "markdown",
   "id": "96c61e38-f7d3-40bf-af19-c7fefd143ffd",
   "metadata": {},
   "source": [
    "Para un agente aleatorio, la implementación sería:"
   ]
  },
  {
   "cell_type": "code",
   "execution_count": 10,
   "id": "e3adcedd-b300-4e30-9cb1-19d5ec96fb81",
   "metadata": {},
   "outputs": [],
   "source": [
    "import random\n",
    "\n",
    "class AgenteAleatorio(Agente):\n",
    "    def elegir_accion(self, estado, max_accion, explorar = True) -> int:\n",
    "        # Elige una acción al azar\n",
    "        return random.randrange(max_accion)\n",
    "\n",
    "    def aprender(self, estado_anterior, estado_siguiente, accion, recompensa, terminado):\n",
    "        # No aprende\n",
    "        pass\n",
    "\n",
    "    def fin_episodio(self):\n",
    "        # Nada que actualizar\n",
    "        pass"
   ]
  },
  {
   "cell_type": "markdown",
   "id": "19498b0d-eb74-431e-ac7f-612497ca07f3",
   "metadata": {},
   "source": [
    "Luego podemos definir una función para ejecutar un episodio con un agente dado:"
   ]
  },
  {
   "cell_type": "code",
   "execution_count": 11,
   "id": "038e9f56-f0cf-40b7-b3c3-a63b34572bc7",
   "metadata": {},
   "outputs": [],
   "source": [
    "def ejecutar_episodio(agente, aprender = True, render = None, max_iteraciones=500):\n",
    "    entorno = gym.make('LunarLander-v2', render_mode=render).env\n",
    "\n",
    "    iteraciones = 0\n",
    "    recompensa_total = 0\n",
    "\n",
    "    termino = False\n",
    "    truncado = False\n",
    "    estado_anterior, info = entorno.reset()\n",
    "    while iteraciones < max_iteraciones and not termino and not truncado:\n",
    "        # Le pedimos al agente que elija entre las posibles acciones (0..entorno.action_space.n)\n",
    "        accion = agente.elegir_accion(estado_anterior, entorno.action_space.n, aprender)\n",
    "        # Realizamos la accion\n",
    "        estado_siguiente, recompensa, termino, truncado, info = entorno.step(accion)\n",
    "        # Le informamos al agente para que aprenda\n",
    "        if (aprender):\n",
    "            agente.aprender(estado_anterior, estado_siguiente, accion, recompensa, termino)\n",
    "\n",
    "        estado_anterior = estado_siguiente\n",
    "        iteraciones += 1\n",
    "        recompensa_total += recompensa\n",
    "    if (aprender):\n",
    "        agente.fin_episodio()\n",
    "    entorno.close()\n",
    "    return recompensa_total"
   ]
  },
  {
   "cell_type": "raw",
   "id": "8a104779-f5e3-4bfa-b88b-fb44de195d49",
   "metadata": {},
   "source": [
    "# Nota: hay que transformar esta celda en código para ejecutar (Esc + y)\n",
    "\n",
    "# Ejecutamos un episodio con el agente aleatorio y modo render 'human', para poder verlo\n",
    "ejecutar_episodio(AgenteAleatorio(), render = 'human')"
   ]
  },
  {
   "cell_type": "markdown",
   "id": "43b9cb2a-37b0-4115-afe8-bb89ce49f605",
   "metadata": {},
   "source": [
    "Podemos ejecutar este ambiente muchas veces y tomar métricas al respecto"
   ]
  },
  {
   "cell_type": "code",
   "execution_count": 12,
   "id": "536e81ee-6038-44c7-b887-35db442815ce",
   "metadata": {},
   "outputs": [
    {
     "name": "stdout",
     "output_type": "stream",
     "text": [
      "Tasa de éxito: 0.0. Se obtuvo -213.66928256399856 de recompensa, en promedio\n"
     ]
    }
   ],
   "source": [
    "agente = AgenteAleatorio()\n",
    "recompensa_episodios = []\n",
    "\n",
    "exitos = 0\n",
    "num_episodios = 100\n",
    "for i in range(num_episodios):\n",
    "    recompensa = ejecutar_episodio(agente)\n",
    "    # Los episodios se consideran exitosos si se obutvo 200 o más de recompensa total\n",
    "    if (recompensa >= 200):\n",
    "        exitos += 1\n",
    "    recompensa_episodios += [recompensa]\n",
    "\n",
    "import numpy\n",
    "print(f\"Tasa de éxito: {exitos / num_episodios}. Se obtuvo {numpy.mean(recompensa_episodios)} de recompensa, en promedio\")"
   ]
  },
  {
   "cell_type": "markdown",
   "id": "086cb250-7bc9-4bd4-a4cd-43cfd561facb",
   "metadata": {},
   "source": [
    "### **5. Programando un agente que aprende**"
   ]
  },
  {
   "cell_type": "markdown",
   "id": "0827e3e2-a84a-462f-8b86-e03425cfc645",
   "metadata": {},
   "source": [
    "La tarea a realizar consiste en programar un agente de aprendizaje por refuerzos:"
   ]
  },
  {
   "cell_type": "code",
   "execution_count": 64,
   "id": "a3f37011-ffaa-4d08-b832-c45d0b9060da",
   "metadata": {},
   "outputs": [],
   "source": [
    "class AgenteRL(Agente):\n",
    "    def __init__(self, bins, max_accion, gamma=0.99, epsilon=1.0, epsilon_min=0.01, epsilon_decay=0.995) -> None:\n",
    "        super().__init__()\n",
    "        self.gamma = gamma\n",
    "        self.epsilon = epsilon  # Factor de exploración\n",
    "        self.epsilon_min = epsilon_min  # Mínimo valor de epsilon para la política epsilon-greedy\n",
    "        self.epsilon_decay = epsilon_decay  # Decaimiento de epsilon para disminuir exploración\n",
    "        self.bins = bins\n",
    "        self.max_accion = max_accion\n",
    "        self.q_table = {}  # Tabla Q para almacenar los valores Q de los estados y acciones\n",
    "\n",
    "    def _discretize_state(self, state):\n",
    "        \"\"\"Discretiza el estado continuo en una tupla de indices discretos\"\"\"\n",
    "\n",
    "        state_disc = list()\n",
    "        for i in range(len(state)):\n",
    "            if i >= len(self.bins):\n",
    "                state_disc.append(int(state[i]))\n",
    "            else:\n",
    "                state_disc.append(np.digitize(state[i], self.bins[i]))\n",
    "        return tuple(state_disc)\n",
    "\n",
    "    def elegir_accion(self, estado, max_accion, explorar=True) -> int:\n",
    "        \"\"\"Elige una acción usando la política epsilon-greedy.\"\"\"\n",
    "\n",
    "        estado = self._discretize_state(estado)\n",
    "\n",
    "        if explorar and np.random.rand() < self.epsilon:  # Política epsilon-greedy\n",
    "            return random.randint(0, max_accion - 1)  # Acción aleatoria\n",
    "        else:\n",
    "            if estado not in self.q_table:\n",
    "                self.q_table[estado] = np.zeros(max_accion)  # Inicializa con ceros si no existe\n",
    "            return np.argmax(self.q_table[estado])  # Acción óptima\n",
    "\n",
    "    def aprender(self, estado_anterior, estado_siguiente, accion, recompensa, terminado):\n",
    "        \"\"\"Actualiza la tabla Q usando la fórmula de Q-learning.\"\"\"\n",
    "\n",
    "        estado_anterior = self._discretize_state(estado_anterior)\n",
    "        estado_siguiente = self._discretize_state(estado_siguiente)\n",
    "        if estado_anterior not in self.q_table:\n",
    "            self.q_table[estado_anterior] = np.zeros(self.max_accion)  # Inicializa con ceros si no existe\n",
    "        if estado_siguiente not in self.q_table:\n",
    "            self.q_table[estado_siguiente] = np.zeros(self.max_accion)  # Inicializa con ceros si no existe\n",
    "\n",
    "        max_q_siguiente = np.max(self.q_table[estado_siguiente]) if estado_siguiente in self.q_table else 0\n",
    "        q_valor_actual = recompensa + self.gamma * max_q_siguiente * (1 - terminado)\n",
    "        self.q_table[estado_anterior][accion] = q_valor_actual\n",
    "\n",
    "    def fin_episodio(self):\n",
    "        \"\"\"Reduce epsilon para disminuir la exploración en episodios futuros.\"\"\"\n",
    "\n",
    "        if self.epsilon > self.epsilon_min:\n",
    "            self.epsilon *= self.epsilon_decay\n"
   ]
  },
  {
   "cell_type": "code",
   "execution_count": 41,
   "id": "6d07b117",
   "metadata": {},
   "outputs": [],
   "source": [
    "def ejecutar_episodio(agente, aprender = True, render = None):\n",
    "  entorno = gym.make('LunarLander-v2', render_mode=render).env\n",
    "  recompensa_total = 0\n",
    "  termino = False\n",
    "  truncado = False\n",
    "  estado_anterior, info = entorno.reset()\n",
    "\n",
    "  while not termino and not truncado:\n",
    "      # Le pedimos al agente que elija entre las posibles acciones (0..entorno.action_space.n)\n",
    "      accion = agente.elegir_accion(estado_anterior, entorno.action_space.n, aprender)\n",
    "\n",
    "      # Realizamos la accion\n",
    "      estado_siguiente, recompensa, termino, truncado, info = entorno.step(accion)\n",
    "\n",
    "      if (aprender):\n",
    "          agente.aprender(estado_anterior, estado_siguiente, accion, recompensa, termino)\n",
    "\n",
    "      agente.fin_episodio()\n",
    "      estado_anterior = estado_siguiente\n",
    "      recompensa_total += recompensa\n",
    "  entorno.close()\n",
    "  return recompensa_total"
   ]
  },
  {
   "cell_type": "markdown",
   "id": "b9ee51f5-aff8-4d18-934e-92acdcb617c0",
   "metadata": {},
   "source": [
    "Y ejecutar con el muchos episodios:"
   ]
  },
  {
   "cell_type": "code",
   "execution_count": 66,
   "id": "c8b65c15",
   "metadata": {},
   "outputs": [
    {
     "name": "stdout",
     "output_type": "stream",
     "text": [
      "Tasa de éxito APRENDIENDO: 0.005. Se obtuvo -110.53862659644496 de recompensa, en promedio\n",
      "Tasa de éxito EXPLOTANDO: 0.011. Se obtuvo -86.40665071683235 de recompensa, en promedio\n"
     ]
    }
   ],
   "source": [
    "agente = AgenteRL(bins, env.action_space.n)\n",
    "exitos = 0\n",
    "recompensa_episodios_aprendiendo = []\n",
    "num_episodios_aprendiendo = 1000\n",
    "for i in range(num_episodios_aprendiendo):\n",
    "    recompensa = ejecutar_episodio(agente, aprender = True)\n",
    "\n",
    "    # Los episodios se consideran exitosos si se obutvo 200 o más de recompensa total\n",
    "    if (recompensa >= 200):\n",
    "        exitos += 1\n",
    "\n",
    "    recompensa_episodios_aprendiendo += [recompensa]\n",
    "print(f\"Tasa de éxito APRENDIENDO: {exitos / num_episodios_aprendiendo}. Se obtuvo {np.mean(recompensa_episodios_aprendiendo)} de recompensa, en promedio\")\n",
    "\n",
    "recompensa_episodios_explotando = []\n",
    "num_episodios_explotando = 1000\n",
    "\n",
    "for i in range(num_episodios_explotando):\n",
    "    recompensa = ejecutar_episodio(agente, aprender = False)\n",
    "\n",
    "    # Los episodios se consideran exitosos si se obutvo 200 o más de recompensa total\n",
    "    if (recompensa >= 200):\n",
    "        exitos += 1\n",
    "\n",
    "    recompensa_episodios_explotando += [recompensa]\n",
    "print(f\"Tasa de éxito EXPLOTANDO: {exitos / num_episodios_explotando}. Se obtuvo {np.mean(recompensa_episodios_explotando)} de recompensa, en promedio\")\n"
   ]
  },
  {
   "cell_type": "markdown",
   "id": "52cf5970",
   "metadata": {},
   "source": [
    "## epsilon_min = 0.001\n",
    "Tasa de éxito APRENDIENDO: 0.004. Se obtuvo -104.31968581897758 de recompensa, en promedio\n",
    "Tasa de éxito EXPLOTANDO: 0.009. Se obtuvo -108.91409492368417 de recompensa, en promedio\n",
    "\n",
    "## epsilon_min = 0.01\n",
    "Tasa de éxito APRENDIENDO: 0.008. Se obtuvo -91.3373685148693 de recompensa, en promedio\n",
    "Tasa de éxito EXPLOTANDO: 0.043. Se obtuvo -120.79008774000155 de recompensa, en promedio\n",
    "\n",
    "Tasa de éxito APRENDIENDO: 0.003. Se obtuvo -109.3484425306888 de recompensa, en promedio\n",
    "Tasa de éxito EXPLOTANDO: 0.016. Se obtuvo -96.47607834783989 de recompensa, en promedio\n",
    "\n",
    "Tasa de éxito APRENDIENDO: 0.014. Se obtuvo -106.73023168865609 de recompensa, en promedio\n",
    "Tasa de éxito EXPLOTANDO: 0.019. Se obtuvo -95.22858288161083 de recompensa, en promedio\n",
    "\n",
    "## epsilon_min = 0.10\n",
    "Tasa de éxito APRENDIENDO: 0.002. Se obtuvo -122.51146745371216 de recompensa, en promedio\n",
    "Tasa de éxito EXPLOTANDO: 0.004. Se obtuvo -154.7603902252848 de recompensa, en promedio\n",
    "\n",
    "\n",
    "## epsilon_decay = 0.9\n",
    "Tasa de éxito APRENDIENDO: 0.006. Se obtuvo -107.76492953159527 de recompensa, en promedio\n",
    "Tasa de éxito EXPLOTANDO: 0.008. Se obtuvo -113.79394720881875 de recompensa, en promedio\n",
    "\n",
    "Tasa de éxito APRENDIENDO: 0.005. Se obtuvo -110.27912561605888 de recompensa, en promedio\n",
    "Tasa de éxito EXPLOTANDO: 0.008. Se obtuvo -128.09272901898802 de recompensa, en promedio\n",
    "\n",
    "## epsilon_decay = 0.99\n",
    "Tasa de éxito APRENDIENDO: 0.004. Se obtuvo -111.23436917136424 de recompensa, en promedio\n",
    "Tasa de éxito EXPLOTANDO: 0.004. Se obtuvo -116.95376521841774 de recompensa, en promedio\n",
    "\n",
    "Tasa de éxito APRENDIENDO: 0.007. Se obtuvo -108.6750633761395 de recompensa, en promedio\n",
    "Tasa de éxito EXPLOTANDO: 0.008. Se obtuvo -206.87386967964355 de recompensa, en promedio\n",
    "\n",
    "Tasa de éxito APRENDIENDO: 0.008. Se obtuvo -104.9135912746686 de recompensa, en promedio\n",
    "Tasa de éxito EXPLOTANDO: 0.013. Se obtuvo -139.59356232723616 de recompensa, en promedio\n",
    "\n",
    "## epsilon_decay = 0.999\n",
    "Tasa de éxito APRENDIENDO: 0.007. Se obtuvo -110.29609377955552 de recompensa, en promedio\n",
    "Tasa de éxito EXPLOTANDO: 0.007. Se obtuvo -224.1952773111115 de recompensa, en promedio\n",
    "\n",
    "Tasa de éxito APRENDIENDO: 0.007. Se obtuvo -107.53262581583502 de recompensa, en promedio\n",
    "Tasa de éxito EXPLOTANDO: 0.011. Se obtuvo -116.29709060761846 de recompensa, en promedio\n",
    "\n",
    "Tasa de éxito APRENDIENDO: 0.003. Se obtuvo -113.10054070397375 de recompensa, en promedio\n",
    "Tasa de éxito EXPLOTANDO: 0.008. Se obtuvo -124.49517197608107 de recompensa, en promedio\n",
    "\n",
    "## epsilon_decay = 0.995\n",
    "Tasa de éxito APRENDIENDO: 0.005. Se obtuvo -108.17598779750017 de recompensa, en promedio\n",
    "Tasa de éxito EXPLOTANDO: 0.014. Se obtuvo -161.65881105440062 de recompensa, en promedio\n",
    "\n",
    "Tasa de éxito APRENDIENDO: 0.005. Se obtuvo -110.53862659644496 de recompensa, en promedio\n",
    "Tasa de éxito EXPLOTANDO: 0.011. Se obtuvo -86.40665071683235 de recompensa, en promedio"
   ]
  },
  {
   "cell_type": "markdown",
   "id": "90270a28",
   "metadata": {},
   "source": [
    "### Graficar recompensas para ambas fases"
   ]
  },
  {
   "cell_type": "code",
   "execution_count": 32,
   "id": "9a21bfe2",
   "metadata": {},
   "outputs": [
    {
     "data": {
      "image/png": "[encoded data removed]",
      "text/plain": [
       "<Figure size 640x480 with 1 Axes>"
      ]
     },
     "metadata": {},
     "output_type": "display_data"
    }
   ],
   "source": [
    "plt.plot(recompensa_episodios_aprendiendo, label='Aprendiendo')\n",
    "plt.plot(recompensa_episodios_explotando, label='Explotando')\n",
    "plt.xlabel('Episodio')\n",
    "plt.ylabel('Recompensa Total')\n",
    "plt.title('Comparación de recompensas durante aprendizaje y explotación')\n",
    "plt.legend()\n",
    "plt.show()"
   ]
  },
  {
   "cell_type": "markdown",
   "id": "a7e7b346-6f23-44e2-a645-e4548ab470ef",
   "metadata": {},
   "source": [
    "Analizar los resultados de la ejecución anterior, incluyendo:\n",
    " * Un análisis de los parámetros utilizados en el algoritmo (aprendizaje, política de exploración)\n",
    " * Un análisis de algunos 'cortes' de la matriz Q y la política (p.e. qué hace la nave cuando está cayendo rápidamente hacia abajo, sin rotación)\n",
    " * Un análisis de la evolución de la recompensa promedio\n",
    " * Un análisis de los casos de éxito\n",
    " * Un análisis de los casos en el que el agente falla\n",
    " * Qué limitante del agente de RL les parece que afecta más negativamente su desempeño. Cómo lo mejorarían? "
   ]
  },
  {
   "cell_type": "code",
   "execution_count": 9,
   "id": "f93fe904-e691-42ff-8fd4-b360d08431cc",
   "metadata": {},
   "outputs": [],
   "source": [
    "# Analizar los resultados aqui\n"
   ]
  }
 ],
 "metadata": {
  "kernelspec": {
   "display_name": "Python 3",
   "language": "python",
   "name": "python3"
  },
  "language_info": {
   "codemirror_mode": {
    "name": "ipython",
    "version": 3
   },
   "file_extension": ".py",
   "mimetype": "text/x-python",
   "name": "python",
   "nbconvert_exporter": "python",
   "pygments_lexer": "ipython3",
   "version": "3.10.0"
  }
 },
 "nbformat": 4,
 "nbformat_minor": 5
}
