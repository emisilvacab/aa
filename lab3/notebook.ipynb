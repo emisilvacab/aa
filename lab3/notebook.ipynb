{
 "cells": [
  {
   "cell_type": "markdown",
   "id": "0d13bbe5-80d1-4879-bc47-d8e366f38456",
   "metadata": {},
   "source": [
    "# **Lunar Lander con Q-Learning**"
   ]
  },
  {
   "cell_type": "markdown",
   "id": "82127016-b75d-4621-a53e-8b2bb63cd3f8",
   "metadata": {},
   "source": [
    "# **1. Bibliotecas**"
   ]
  },
  {
   "cell_type": "code",
   "execution_count": 1,
   "id": "a6e0a19d-696b-440e-84eb-fe2b8761d955",
   "metadata": {},
   "outputs": [
    {
     "name": "stdout",
     "output_type": "stream",
     "text": [
      "zsh:1: no matches found: gymnasium[box2d]\n"
     ]
    }
   ],
   "source": [
    "!pip3 install cmake gymnasium scipy numpy gymnasium[box2d] pygame==2.6.0 swig\n",
    "import sys\n",
    "# Tal vez tengan que ejecutar lo siguiente en sus máquinas (ubuntu 20.04)\n",
    "# sudo apt-get remove swig\n",
    "# sudo apt-get install swig3.0\n",
    "# sudo ln -s /usr/bin/swig3.0 /usr/bin/swig\n",
    "# En windows tambien puede ser necesario MSVC++\n",
    "import gymnasium as gym\n",
    "import numpy as np\n",
    "import matplotlib.pyplot as plt\n",
    "from collections import deque\n",
    "import random"
   ]
  },
  {
   "cell_type": "markdown",
   "id": "9831e9d4-7840-485c-bc38-af987a76de4f",
   "metadata": {},
   "source": [
    "# **2. Jugando a mano**"
   ]
  },
  {
   "cell_type": "markdown",
   "id": "9e744255-5e3f-4c17-b9dc-c6374c2f06c2",
   "metadata": {},
   "source": [
    "A continuación se puede jugar un episodio del lunar lander. Se controlan los motores con el teclado. Notar que solo se puede realizar una acción a la vez (que es parte del problema), y que en esta implementación, izq toma precedencia sobre derecha, que toma precedencia sobre el motor principal."
   ]
  },
  {
   "cell_type": "code",
   "execution_count": 32,
   "id": "e58dc2d6",
   "metadata": {},
   "outputs": [],
   "source": [
    "# Nota: hay que transformar esta celda en código para ejecutar (Esc + y)\n",
    "\n",
    "import pygame\n",
    "from pygame.locals import *\n",
    "\n",
    "# Inicializar pygame (para el control con el teclado) y el ambiente\n",
    "pygame.init()\n",
    "env = gym.make('LunarLander-v2', render_mode='human')\n",
    "env.reset()\n",
    "pygame.display.set_caption('Lunar Lander')\n",
    "\n",
    "clock = pygame.time.Clock()\n",
    "done = False\n",
    "\n",
    "while not done:\n",
    "    for event in pygame.event.get():\n",
    "        if event.type == QUIT:\n",
    "            done = True\n",
    "            break\n",
    "\n",
    "    keys = pygame.key.get_pressed()\n",
    "\n",
    "    # Map keys to actions\n",
    "    if keys[K_LEFT]:\n",
    "        action = 3  # Fire left orientation engine\n",
    "    elif keys[K_RIGHT]:\n",
    "        action = 1 # Fire right orientation engine\n",
    "    elif keys[K_UP]:\n",
    "        action = 2  # Fire main engine\n",
    "    else:\n",
    "        action = 0  # Do nothing\n",
    "\n",
    "    _, _, terminated, truncated, _ = env.step(action)\n",
    "    env.render()\n",
    "    clock.tick(10)\n",
    "\n",
    "    if terminated or truncated:\n",
    "        done = True\n",
    "\n",
    "env.close()\n",
    "pygame.quit()"
   ]
  },
  {
   "cell_type": "markdown",
   "id": "d721a629-7f3f-4a70-83c0-e12f43b0f285",
   "metadata": {},
   "source": [
    "# **3. Discretizando el estado**"
   ]
  },
  {
   "cell_type": "markdown",
   "id": "37d35189-3a15-4ceb-b978-38226518092a",
   "metadata": {},
   "source": [
    "El estado consiste de posiciones y velocidades en (x,y,theta) y en información de contacto de los pies con la superficie.\n",
    "\n",
    "Como varios de estos son continuos, tenemos que discretizarlos para aplicar nuestro algoritmo de aprendizaje por refuerzo tabular."
   ]
  },
  {
   "cell_type": "code",
   "execution_count": 73,
   "id": "b7b6bed3-12ba-4d92-8b09-3d3f8429217f",
   "metadata": {},
   "outputs": [],
   "source": [
    "# Cuántos bins queremos por dimensión\n",
    "# Pueden considerar variar este parámetro\n",
    "bins_per_dim = 15\n",
    "\n",
    "# Estado:\n",
    "# (x, y, x_vel, y_vel, theta, theta_vel, pie_izq_en_contacto, pie_derecho_en_contacto)\n",
    "NUM_BINS = [bins_per_dim, bins_per_dim, bins_per_dim, bins_per_dim, bins_per_dim, bins_per_dim, 2, 2]\n",
    "\n",
    "env = gym.make('LunarLander-v2')\n",
    "env.reset()\n",
    "\n",
    "# Tomamos los rangos del env\n",
    "OBS_SPACE_HIGH = env.observation_space.high\n",
    "OBS_SPACE_LOW = env.observation_space.low\n",
    "OBS_SPACE_LOW[1] = 0 # Para la coordenada y (altura), no podemos ir más abajo que la zona dea aterrizae (que está en el 0, 0)\n",
    "\n",
    "# Los bins para cada dimensión\n",
    "bins = [\n",
    "    np.linspace(OBS_SPACE_LOW[i], OBS_SPACE_HIGH[i], NUM_BINS[i] - 1)\n",
    "    for i in range(len(NUM_BINS) - 2) # last two are binary\n",
    "]\n",
    "# Se recomienda observar los bins para entender su estructura\n",
    "# print (\"Bins: \", bins)"
   ]
  },
  {
   "cell_type": "markdown",
   "id": "779c1576-eff2-4b3c-8069-f6d30243f1e6",
   "metadata": {},
   "source": [
    "# **4. Agentes y la interacción con el entorno**"
   ]
  },
  {
   "cell_type": "markdown",
   "id": "d594f89c-70b1-4c7c-939f-d654a5263f1c",
   "metadata": {},
   "source": [
    "Vamos a definir una interfaz para nuestro agente:"
   ]
  },
  {
   "cell_type": "code",
   "execution_count": 3,
   "id": "93e7059a-7b68-4b13-857b-16e96c5f9793",
   "metadata": {},
   "outputs": [],
   "source": [
    "class Agente:\n",
    "    def elegir_accion(self, estado, max_accion, explorar = True) -> int:\n",
    "        \"\"\"Elegir la accion a tomar en el estado actual y el espacio de acciones\n",
    "            - estado_anterior: el estado desde que se empezó\n",
    "            - estado_siguiente: el estado al que se llegó\n",
    "            - accion: la acción que llevo al agente desde estado_anterior a estado_siguiente\n",
    "            - recompensa: la recompensa recibida en la transicion\n",
    "            - terminado: si el episodio terminó\n",
    "        \"\"\"\n",
    "        pass\n",
    "\n",
    "    def aprender(self, estado_anterior, estado_siguiente, accion, recompensa, terminado):\n",
    "        \"\"\"Aprender a partir de la tupla\n",
    "            - estado_anterior: el estado desde que se empezó\n",
    "            - estado_siguiente: el estado al que se llegó\n",
    "            - accion: la acción que llevo al agente desde estado_anterior a estado_siguiente\n",
    "            - recompensa: la recompensa recibida en la transicion\n",
    "            - terminado: si el episodio terminó en esta transición\n",
    "        \"\"\"\n",
    "        pass\n",
    "\n",
    "    def fin_episodio(self):\n",
    "        \"\"\"Actualizar estructuras al final de un episodio\"\"\"\n",
    "        pass"
   ]
  },
  {
   "cell_type": "markdown",
   "id": "96c61e38-f7d3-40bf-af19-c7fefd143ffd",
   "metadata": {},
   "source": [
    "Para un agente aleatorio, la implementación sería:"
   ]
  },
  {
   "cell_type": "code",
   "execution_count": 4,
   "id": "e3adcedd-b300-4e30-9cb1-19d5ec96fb81",
   "metadata": {},
   "outputs": [],
   "source": [
    "import random\n",
    "\n",
    "class AgenteAleatorio(Agente):\n",
    "    def elegir_accion(self, estado, max_accion, explorar = True) -> int:\n",
    "        # Elige una acción al azar\n",
    "        return random.randrange(max_accion)\n",
    "\n",
    "    def aprender(self, estado_anterior, estado_siguiente, accion, recompensa, terminado):\n",
    "        # No aprende\n",
    "        pass\n",
    "\n",
    "    def fin_episodio(self):\n",
    "        # Nada que actualizar\n",
    "        pass"
   ]
  },
  {
   "cell_type": "markdown",
   "id": "19498b0d-eb74-431e-ac7f-612497ca07f3",
   "metadata": {},
   "source": [
    "Luego podemos definir una función para ejecutar un episodio con un agente dado:"
   ]
  },
  {
   "cell_type": "code",
   "execution_count": 4,
   "id": "038e9f56-f0cf-40b7-b3c3-a63b34572bc7",
   "metadata": {},
   "outputs": [],
   "source": [
    "def ejecutar_episodio(agente, aprender = True, render = None, max_iteraciones=500):\n",
    "    entorno = gym.make('LunarLander-v2', render_mode=render).env\n",
    "\n",
    "    iteraciones = 0\n",
    "    recompensa_total = 0\n",
    "\n",
    "    termino = False\n",
    "    truncado = False\n",
    "    estado_anterior, info = entorno.reset()\n",
    "    while iteraciones < max_iteraciones and not termino and not truncado:\n",
    "        # Le pedimos al agente que elija entre las posibles acciones (0..entorno.action_space.n)\n",
    "        accion = agente.elegir_accion(estado_anterior, entorno.action_space.n, aprender)\n",
    "        # Realizamos la accion\n",
    "        estado_siguiente, recompensa, termino, truncado, info = entorno.step(accion)\n",
    "        # Le informamos al agente para que aprenda\n",
    "        if (aprender):\n",
    "            agente.aprender(estado_anterior, estado_siguiente, accion, recompensa, termino)\n",
    "\n",
    "        estado_anterior = estado_siguiente\n",
    "        iteraciones += 1\n",
    "        recompensa_total += recompensa\n",
    "    if (aprender):\n",
    "        agente.fin_episodio()\n",
    "    entorno.close()\n",
    "    return recompensa_total"
   ]
  },
  {
   "cell_type": "markdown",
   "id": "43b9cb2a-37b0-4115-afe8-bb89ce49f605",
   "metadata": {},
   "source": [
    "Podemos ejecutar este ambiente muchas veces y tomar métricas al respecto"
   ]
  },
  {
   "cell_type": "code",
   "execution_count": 6,
   "id": "536e81ee-6038-44c7-b887-35db442815ce",
   "metadata": {},
   "outputs": [
    {
     "name": "stdout",
     "output_type": "stream",
     "text": [
      "Tasa de éxito: 0.0. Se obtuvo -184.0164098406959 de recompensa, en promedio\n"
     ]
    }
   ],
   "source": [
    "agente = AgenteAleatorio()\n",
    "recompensa_episodios = []\n",
    "\n",
    "exitos = 0\n",
    "num_episodios = 100\n",
    "for i in range(num_episodios):\n",
    "    recompensa = ejecutar_episodio(agente)\n",
    "    # Los episodios se consideran exitosos si se obutvo 200 o más de recompensa total\n",
    "    if (recompensa >= 200):\n",
    "        exitos += 1\n",
    "    recompensa_episodios += [recompensa]\n",
    "\n",
    "import numpy\n",
    "print(f\"Tasa de éxito: {exitos / num_episodios}. Se obtuvo {numpy.mean(recompensa_episodios)} de recompensa, en promedio\")"
   ]
  },
  {
   "cell_type": "markdown",
   "id": "086cb250-7bc9-4bd4-a4cd-43cfd561facb",
   "metadata": {},
   "source": [
    "# **5. Programando un agente que aprende**"
   ]
  },
  {
   "cell_type": "markdown",
   "id": "0827e3e2-a84a-462f-8b86-e03425cfc645",
   "metadata": {},
   "source": [
    "## 5.1 Descripción del Agente de Aprendizaje por Refuerzo\n",
    "#### 5.1.1 Selección de Acción (elegir_accion)\n",
    "El agente selecciona una acción usando una política epsilon-greedy, que mezcla exploración y explotación:\n",
    "* **Exploración**: Con probabilidad epsilon, el agente elige una acción aleatoria, lo que le permite explorar el espacio de acciones.\n",
    "* **Explotación**: Si no se explora, el agente selecciona la acción con el valor Q más alto en el estado actual. Si el estado actual no está en la tabla Q, se inicializa con valores de acción igual a cero.\n",
    "\n",
    "#### 5.1.2 Aprendizaje (aprender)\n",
    "Durante el aprendizaje el agente actualiza su tabla Q utilizando la siguiente fórmula:\n",
    "$$ \\hat{Q}(s,a) \\leftarrow (1-\\alpha_{n})\\hat{Q}(s,a) + \\alpha_{n}[r(s,a) + \\gamma max_{a_{2}}\\hat{Q}(\\delta(s,a),a_{2})] $$\n",
    "En esta formula el término $ (1-\\alpha_{n})\\hat{Q}(s,a) $ pondera el valor actual de $ \\hat{Q}(s,a) $, lo que significa que le da un peso de $ (1-\\alpha_{n}) $ a la estimación previa en el proceso de evaluación. Por otro lado, $\\alpha_{n}$ pondera la nueva información que se obtiene de la recompensa inmediata $ r(s,a) $ y de la estimación de la máxima recompensa futura (es decir, $ \\gamma max_{a_{2}}\\hat{Q}(\\delta(s,a),a_{2}) $). La combinación de estos dos términos permite que la estimación de Q se actualice de manera segura y de manera balanceada entre lo que ya conocía y la nueva información que ha recibido.\n",
    "\n",
    "Esta tasa de aprendizaje $\\alpha_{n}$ controla cuánta importancia le damos a la nueva información en relación con la estimación previa, y para su valor se tomó un valor fijo que diera buenos resultados en la experimentación.\n",
    "\n",
    "#### 5.1.3 Fin de Episodio (fin_episodio)\n",
    "Al finalizar cada episodio, el valor de epsilon se reduce multiplicándose por el factor de decaimiento (*epsilon_decay*). Esto reduce gradualmente la cantidad de exploración y permite que el agente se enfoque más en la explotación de su política óptima.\n",
    "\n",
    "### 5.2 Descripción del Agente de Aprendizaje por Refuerzo\n",
    "Para entrenar al agente, ejecutamos 50000 episodios utilizando la fórmula estándar de Q-learning. Luego, para evaluar el rendimiento, ejecutamos otros 1000 episodios de explotación, midiendo la tasa de éxito, donde se considera exitoso un episodio si la recompensa total es mayor o igual a 200.\n",
    "\n",
    "Durante la fase de aprendizaje, implementamos la política epsilon-greedy. Esta política consiste en explorar el entorno tomando una acción aleatoria con una probabilidad epsilon, mientras que el resto del tiempo se selecciona la mejor acción conocida. Al inicio del entrenamiento, el agente no tiene suficiente información sobre los resultados de las posibles acciones, por lo que es necesario realizar una exploración adecuada. A medida que el agente aprende, la probabilidad de exploración epsilon se va reduciendo mediante un factor de decaimiento llamado *epsilon_decay*, hasta alcanzar un valor mínimo *epsilon_min*. Esto permite que el agente explore al principio, pero luego se enfoque en explotar las acciones que llevan a mejores recompensas.\n",
    "\n",
    "Durante la fase de explotación, ya no aplicamos la política epsilon-greedy dado que estamos interesados en medir el rendimiento del agente explotando únicamente las acciones que ha aprendido. Aplicar esta técnica de exploración durante la fase de explotación creemos que afectaría positivamente al agente."
   ]
  },
  {
   "cell_type": "markdown",
   "id": "690a409f",
   "metadata": {},
   "source": [
    "## 5.2 Análisis de los parámetros utilizados en el algoritmo\n",
    "\n",
    "Se experimentó con iteraciones cortas, alrededor de 3000 episodios, para ajustar y elegir los valores de los parámetros que optimizan el rendimiento del agente.\n",
    "\n",
    "- ### **epsilon, epsilon_decay y epsilon_min**\n",
    "\n",
    "\n",
    "\t#### epsilon_min en 3000 episodios\n",
    "\n",
    "\t| `epsilon_min` | Tasa de éxito (Aprendiendo) | Recompensa promedio (Aprendiendo) | Tasa de éxito (Explotando) | Recompensa promedio (Explotando) |\n",
    "\t|---------------|----------------------------|-----------------------------------|----------------------------|----------------------------------|\n",
    "\t| 0.001         | 0.014                      | -95.19                            | 0.058                      | -43.75                           |\n",
    "\t| 0.01          | 0.010                      | -97.30                            | 0.035                      | -67.26                           |\n",
    "\t| 0.10          | 0.009                      | -96.70                            | 0.049                      | -96.76                           |\n",
    "\n",
    "\t#### epsilon_min en 5000 episodios\n",
    "\n",
    "\t| `epsilon_min` | Tasa de éxito (Aprendiendo) | Recompensa promedio (Aprendiendo) | Tasa de éxito (Explotando) | Recompensa promedio (Explotando) |\n",
    "\t|---------------|----------------------------|-----------------------------------|----------------------------|----------------------------------|\n",
    "\t| 0.001         | 0.029                      | -64.17                            | 0.074                      | 1.28                             |\n",
    "\t| 0.01          | 0.040                      | -64.80                            | 0.137                      | -0.78                            |\n",
    "\t| 0.10          | 0.018                      | -74.43                            | 0.056                      | -61.45                           |\n",
    "\n",
    "\t`epsilon_min = 0.01`: Se eligió un epsilon_min bajo para mantener una pequeña tasa de exploración en las etapas finales. Al obtener resultados similares con 3000 episodios se hizo la misma prueba con 5000 donde se consiguió una mayor tasa para 0.01.\n",
    "\n",
    "\t#### epsilon_decay en 3000 episodios\n",
    "\n",
    "\t| `epsilon_decay` | Tasa de éxito (Aprendiendo) | Recompensa promedio (Aprendiendo) | Tasa de éxito (Explotando) | Recompensa promedio (Explotando) |\n",
    "\t|-----------------|----------------------------|-----------------------------------|----------------------------|----------------------------------|\n",
    "\t| 0.9             | 0.023                      | -73.90                            | 0.069                      | -49.43                           |\n",
    "\t| 0.99            | 0.037                      | -67.84                            | 0.074                      | -32.84                           |\n",
    "\t| 0.999           | 0.013                      | -101.69                           | 0.093                      | -39.72                           |\n",
    "\t| 0.9999          | 0.0                        | -154.63                           | 0.001                      | -116.97                          |\n",
    "\n",
    "\t`epsilon_decay = 0.999`: Este valor de decaimiento lento se seleccionó para permitir una exploración prolongada. Se probaron tasas más rápidas (como 0.9 y 0.99) y se observó que no ofrecían suficiente tiempo para explorar antes de estabilizarse en la explotación, con 0.9999 no se obtuvieron éxitos por lo se descartó un valor tan alto. 0.999 proporcionó un equilibrio, resultando en una tasa de éxito en explotación aceptable.\n",
    "\n",
    "\t`epsilon` controla el equilibrio entre la exploración y la explotación. Inicialmente, `epsilon = 1.0`, lo que implica que el agente explora completamente el entorno realizando acciones aleatorias. A medida que avanzan los episodios, epsilon disminuye en un factor de `epsilon_decay`, hasta alcanzar el valor mínimo `epsilon_min = 0.01` (lo que significa que el 1% de las veces el agente seguirá explorando de forma aleatoria).\n",
    "\n",
    "\tPor lo que hay mayor exploración al principio, permitiendo que el agente aprenda sobre el entorno. Conforme disminuye epsilon, el agente comienza a confiar más en el conocimiento almacenado en su tabla Q. Un epsilon_min bajo en los episodios finales implica que el agente casi siempre elegirá la mejor acción basada en su conocimiento actual. Esto favorece la optimización de su política, aunque si la fase de exploración termina demasiado pronto, existe el riesgo de que el agente quede atrapado en una política subóptima.\n",
    "\n",
    "\tPosteriormente se observó que a medida que el valor de epsilon disminuye hay un incremento en la recompensa promedio y en la tasa de éxito.\n",
    "\n",
    "- ### **gamma**\n",
    "\n",
    "\n",
    "\t#### gamma en 3000 episodios\n",
    "\n",
    "\t| `gamma` | Tasa de éxito (Aprendiendo) | Recompensa promedio (Aprendiendo) | Tasa de éxito (Explotando) | Recompensa promedio (Explotando) |\n",
    "\t|---------|------------------------------|-----------------------------------|----------------------------|----------------------------------|\n",
    "\t| 0.99    | 0.011                        | -94.32                            | 0.068                      | -56.39                           |\n",
    "\t| 0.95    | 0.0163                       | -94.91                            | 0.039                      | -109.76                          |\n",
    "\t| 0.90    | 0.0127                       | -102.33                           | 0.038                      | -70.30                           |\n",
    "\t| 0.80    | 0.0083                       | -119.56                           | 0.019                      | -114.01                          |\n",
    "\n",
    "\n",
    "\tCon `gamma = 0.99`, el agente valora considerablemente las recompensas a largo plazo, casi tanto como las recompensas inmediatas. Un valor cercano a 1 indica que el agente está aprendiendo políticas que no solo son efectivas a corto plazo, sino que también resultan en secuencias de acciones más largas y beneficiosas.\n",
    "\n",
    "\tEste valor es adecuado para el entorno de Lunar Lander, donde las acciones deben ser planeadas cuidadosamente, y las recompensas importantes pueden estar separadas por varios pasos. Si gamma fuera más bajo, el agente podría priorizar en exceso las recompensas inmediatas, fallando en aprender políticas que conduzcan a aterrizajes exitosos.\n",
    "\n",
    "- ### **alpha**\n",
    "\n",
    "\t### alpha en 3000 episodios\n",
    "\n",
    "\t| `alpha` | Tasa de éxito (Aprendiendo) | Recompensa promedio (Aprendiendo) | Tasa de éxito (Explotando) | Recompensa promedio (Explotando) |\n",
    "\t|---------|---------------------------|---------------------------------|--------------------------|--------------------------------|\n",
    "\t| 0.5     | 0.004                     | -114.67                         | 0.014                    | -118.49                        |\n",
    "\t| 0.2     | 0.00433                   | -91.81                          | 0.025                    | -67.90                         |\n",
    "\t| 0.1     | 0.015                     | -97.16                          | 0.043                    | -68.42                         |\n",
    "\t| 0.01    | 0.005                     | -131.38                         | 0.012                    | -194.13                        |\n",
    "\n",
    "\tLa tasa de aprendizaje, alpha, controla cuánto se actualizan los valores de la tabla Q en cada iteración. Con `alpha = 0.1`, el agente actualiza su conocimiento de manera gradual. Un valor de alpha más alto podría acelerar el proceso de aprendizaje, pero también podría reducir la estabilidad, ya que el agente reaccionaría de forma exagerada a nuevas experiencias. Se probaron varios valores, desde 0.5 hasta 0.01, para observar cómo afectaban la estabilidad y velocidad de aprendizaje. 0.1 resultó ser el punto óptimo, ya que valores más altos causaron inestabilidad y valores más bajos llevaron a un aprendizaje lento.\n",
    "\n",
    "- ### **bins_per_dim**\n",
    "\n",
    "\tUn mayor número de divisiones (bins) por dimensión permite al agente aprender políticas más precisas, pero también incrementa el tamaño de la tabla Q, lo que ralentiza el proceso de aprendizaje. Al reducir el número de bins de 20 a 15, se encontró un equilibrio adecuado entre precisión y eficiencia en el aprendizaje."
   ]
  },
  {
   "cell_type": "code",
   "execution_count": 74,
   "id": "a3f37011-ffaa-4d08-b832-c45d0b9060da",
   "metadata": {},
   "outputs": [],
   "source": [
    "class AgenteRL(Agente):\n",
    "    def __init__(self, bins, max_accion, gamma=0.99, alpha=0.1, epsilon=1.0, epsilon_min=0.01, epsilon_decay=0.999) -> None:\n",
    "        super().__init__()\n",
    "        self.gamma = gamma\n",
    "        self.epsilon = epsilon  # Factor de exploración\n",
    "        self.epsilon_min = epsilon_min  # Mínimo valor de epsilon para la política epsilon-greedy\n",
    "        self.epsilon_decay = epsilon_decay  # Decaimiento de epsilon para disminuir exploración\n",
    "        self.bins = bins\n",
    "        self.max_accion = max_accion\n",
    "        self.q_table = {}  # Tabla Q para almacenar los valores Q de los estados y acciones\n",
    "        self.alpha = alpha  # Factor de aprendizaje\n",
    "\n",
    "    def _discretize_state(self, state):\n",
    "        \"\"\"Discretiza el estado continuo en una tupla de indices discretos\"\"\"\n",
    "\n",
    "        state_disc = list()\n",
    "        for i in range(len(state)):\n",
    "            if i >= len(self.bins):\n",
    "                state_disc.append(int(state[i]))\n",
    "            else:\n",
    "                state_disc.append(np.digitize(state[i], self.bins[i]))\n",
    "        return tuple(state_disc)\n",
    "\n",
    "    def elegir_accion(self, estado, max_accion, explorar=True) -> int:\n",
    "        \"\"\"Elige una acción usando la política epsilon-greedy.\"\"\"\n",
    "\n",
    "        estado = self._discretize_state(estado)\n",
    "\n",
    "        if explorar and np.random.rand() < self.epsilon:  # Política epsilon-greedy\n",
    "            return random.randint(0, max_accion - 1)  # Acción aleatoria\n",
    "        else:\n",
    "            if estado not in self.q_table:\n",
    "                self.q_table[estado] = np.zeros(max_accion)  # Inicializa con ceros si no existe\n",
    "            return np.argmax(self.q_table[estado])  # Acción óptima\n",
    "\n",
    "    def aprender(self, estado_anterior, estado_siguiente, accion, recompensa, terminado):\n",
    "        \"\"\"Actualiza la tabla Q usando la fórmula de Q-learning.\"\"\"\n",
    "\n",
    "        estado_anterior = self._discretize_state(estado_anterior)\n",
    "        estado_siguiente = self._discretize_state(estado_siguiente)\n",
    "        if estado_anterior not in self.q_table:\n",
    "            self.q_table[estado_anterior] = np.zeros(self.max_accion)  # Inicializa con ceros si no existe\n",
    "        if estado_siguiente not in self.q_table:\n",
    "            self.q_table[estado_siguiente] = np.zeros(self.max_accion)  # Inicializa con ceros si no existe\n",
    "\n",
    "        max_q_siguiente = np.max(self.q_table[estado_siguiente]) if estado_siguiente in self.q_table else 0\n",
    "\n",
    "        q_valor_actual = self.q_table[estado_anterior][accion]\n",
    "        self.q_table[estado_anterior][accion] = (1 - self.alpha) * q_valor_actual + self.alpha * (recompensa + self.gamma * max_q_siguiente * (1 - terminado))\n",
    "\n",
    "    def fin_episodio(self):\n",
    "        \"\"\"Reduce epsilon para disminuir la exploración en episodios futuros.\"\"\"\n",
    "\n",
    "        if self.epsilon > self.epsilon_min:\n",
    "            self.epsilon *= self.epsilon_decay\n"
   ]
  },
  {
   "cell_type": "markdown",
   "id": "b9ee51f5-aff8-4d18-934e-92acdcb617c0",
   "metadata": {},
   "source": [
    "Aprendizaje y explotación de AgenteRL:"
   ]
  },
  {
   "cell_type": "code",
   "execution_count": 75,
   "id": "c8b65c15",
   "metadata": {},
   "outputs": [
    {
     "name": "stdout",
     "output_type": "stream",
     "text": [
      "Tasa de éxito APRENDIENDO: 0.23822. Se obtuvo 48.917178080295855 de recompensa, en promedio\n",
      "Tasa de éxito EXPLOTANDO: 0.272. Se obtuvo 70.79403548666474 de recompensa, en promedio\n"
     ]
    }
   ],
   "source": [
    "agente = AgenteRL(bins, env.action_space.n)\n",
    "\n",
    "exitos_aprendiendo = 0\n",
    "num_episodios_aprendiendo = 50000\n",
    "recompensa_episodios_aprendiendo = []\n",
    "\n",
    "for i in range(num_episodios_aprendiendo):\n",
    "    recompensa = ejecutar_episodio(agente, aprender = True)\n",
    "\n",
    "    # Los episodios se consideran exitosos si se obtuvo 200 o más de recompensa total\n",
    "    if (recompensa >= 200):\n",
    "        exitos_aprendiendo += 1\n",
    "\n",
    "    recompensa_episodios_aprendiendo += [recompensa]\n",
    "\n",
    "print(f\"Tasa de éxito APRENDIENDO: {exitos_aprendiendo / num_episodios_aprendiendo}. Se obtuvo {np.mean(recompensa_episodios_aprendiendo)} de recompensa, en promedio\")\n",
    "\n",
    "exitos_explotando = 0\n",
    "num_episodios_explotando = 1000\n",
    "recompensa_episodios_explotando = []\n",
    "\n",
    "for i in range(num_episodios_explotando):\n",
    "    recompensa = ejecutar_episodio(agente, aprender = False)\n",
    "\n",
    "    # Los episodios se consideran exitosos si se obtuvo 200 o más de recompensa total\n",
    "    if (recompensa >= 200):\n",
    "        exitos_explotando += 1\n",
    "\n",
    "    recompensa_episodios_explotando += [recompensa]\n",
    "\n",
    "print(f\"Tasa de éxito EXPLOTANDO: {exitos_explotando / num_episodios_explotando}. Se obtuvo {np.mean(recompensa_episodios_explotando)} de recompensa, en promedio\")\n"
   ]
  },
  {
   "cell_type": "markdown",
   "id": "52cf5970",
   "metadata": {},
   "source": [
    "# **6. Resultados y Análisis**\n",
    "\n",
    "Dados los parámetros:\n",
    " - gamma=0.99\n",
    " - alpha=0.1\n",
    " - epsilon=1.0\n",
    " - epsilon_min=0.01\n",
    " - epsilon_decay=0.999\n",
    " - bins_per_dim=15\n",
    " - max_iteraciones=500\n",
    " - num_episodios_aprendiendo=500000\n",
    " - num_episodios_explotando=1000\n",
    "\n",
    "Tasa de éxito APRENDIENDO: 0.23822. Se obtuvo 48.917178080295855 de recompensa, en promedio\n",
    "\n",
    "Tasa de éxito EXPLOTANDO: 0.272. Se obtuvo 70.79403548666474 de recompensa, en promedio\n"
   ]
  },
  {
   "cell_type": "markdown",
   "id": "4190d638",
   "metadata": {},
   "source": [
    "## 6.1 Evolución de la recompensa promedio\n",
    "\n",
    "- **Tendencia:**\n",
    "\n",
    "\tDurante la fase de aprendizaje, la recompensa promedio muestra una mejora progresiva a medida que avanzan los episodios, indicando que el agente está aprendiendo gradualmente. Al principio, se observan recompensas negativas, lo que sugiere que el agente comete más errores. Sin embargo, con el tiempo, el agente se adapta y su rendimiento mejora de manera constante, acercándose a un comportamiento estable y con recompensas cercanas o superiores a 0.\n",
    "\n",
    "- **Estabilidad:**\n",
    "\n",
    "\tEn la fase de explotación, aunque al inicio se presentan picos y caídas bruscas en la recompensa promedio, después de un número de episodios (~600), esta se estabiliza alrededor de un valor constante (~70). Esto refleja que el agente ha alcanzado un punto de toma de decisiones óptimas con menor variación. Los saltos iniciales pueden atribuirse a la naturaleza del epsilon (con un mínimo de 0.01), que introduce cierta aleatoriedad en las decisiones. Esto afecta más al cálculo del promedio de la recompensa en los primeros episodios, ya que hay menos muestras, lo que hace que las variaciones individuales tengan un mayor impacto.\n",
    "\n",
    "- **Exploración vs Explotación:**\n",
    "\n",
    "\tLa fase de exploración permite al agente mejorar su recompensa promedio gradualmente a medida que experimenta y ajusta su comportamiento. En contraste, la fase de explotación refleja una recompensa más estable, ya que el agente aplica las estrategias aprendidas con menor variabilidad. Esto subraya la importancia de la exploración inicial, donde el agente tiene la oportunidad de descubrir mejores estrategias, lo que luego se traduce en una explotación más eficiente y consistente."
   ]
  },
  {
   "cell_type": "code",
   "execution_count": 79,
   "id": "271fa714",
   "metadata": {},
   "outputs": [
    {
     "data": {
      "image/png": "[encoded data removed]",
      "text/plain": [
       "<Figure size 640x480 with 1 Axes>"
      ]
     },
     "metadata": {},
     "output_type": "display_data"
    }
   ],
   "source": [
    "recompensas_promedio_aprendiendo = [np.mean(recompensa_episodios_aprendiendo[:i+1]) for i in range(num_episodios_aprendiendo)]\n",
    "plt.plot(recompensas_promedio_aprendiendo, label='Aprendiendo')\n",
    "plt.title(\"Evolución de la recompensa promedio aprendiendo\")\n",
    "plt.xlabel(\"Episodio\")\n",
    "plt.ylabel(\"Recompensa promedio aprendiendo\")\n",
    "plt.show()"
   ]
  },
  {
   "cell_type": "code",
   "execution_count": 80,
   "id": "3a253639",
   "metadata": {},
   "outputs": [
    {
     "data": {
      "image/png": "[encoded data removed]",
      "text/plain": [
       "<Figure size 640x480 with 1 Axes>"
      ]
     },
     "metadata": {},
     "output_type": "display_data"
    }
   ],
   "source": [
    "recompensas_promedio_explotando = [np.mean(recompensa_episodios_explotando[:i+1]) for i in range(num_episodios_explotando)]\n",
    "plt.plot(recompensas_promedio_explotando, color='orange')\n",
    "plt.title(\"Evolución de la recompensa promedio explotando\")\n",
    "plt.xlabel(\"Episodio\")\n",
    "plt.ylabel(\"Recompensa promedio explotando\")\n",
    "plt.show()"
   ]
  },
  {
   "cell_type": "markdown",
   "id": "d8a8ced1",
   "metadata": {},
   "source": [
    "### Evolución de la tasa de éxito"
   ]
  },
  {
   "cell_type": "code",
   "execution_count": 81,
   "id": "19e6965c",
   "metadata": {},
   "outputs": [
    {
     "data": {
      "image/png": "[encoded data removed]",
      "text/plain": [
       "<Figure size 640x480 with 1 Axes>"
      ]
     },
     "metadata": {},
     "output_type": "display_data"
    }
   ],
   "source": [
    "exitos = [1 if recompensa >= 200 else 0 for recompensa in recompensa_episodios_aprendiendo]\n",
    "\n",
    "# Calcular la tasa de éxito acumulada\n",
    "tasa_exito = np.cumsum(exitos) / (np.arange(num_episodios_aprendiendo) + 1)\n",
    "\n",
    "plt.plot(range(num_episodios_aprendiendo), tasa_exito)\n",
    "plt.xlabel('Número de Episodio')\n",
    "plt.ylabel('Tasa de Éxito')\n",
    "plt.title('Evolución de la Tasa de Éxito aprendiendo')\n",
    "plt.show()\n"
   ]
  },
  {
   "cell_type": "markdown",
   "id": "788e87b7",
   "metadata": {},
   "source": [
    "## 6.2 Análisis de los casos de fracaso\n",
    "Se observó el comportamiento del agente durante sus ejecuciones, y se encontraron distintos puntos recurrentes en los casos de fracaso\n",
    "\n",
    "**Fallo en la moderación del propulsor cerca del suelo**: Un comportamiento recurrente es que el agente, al acercarse al suelo, deja de utilizar el propulsor principal o reduce significativamente su uso, permitiendo que la nave descienda rápidamente y, en consecuencia, se estrelle. Esto sugiere que el agente no ha aprendido a manejar de manera adecuada el encendido y apagado del propulsor en esta etapa crítica del aterrizaje. En la dinámica del juego, mantener el propulsor encendido continuamente haría que la nave suba, mientras que apagarlo del todo haría que caiga. El equilibrio entre ambos estados es fundamental para un aterrizaje suave. La incapacidad del agente para realizar este ajuste fino indica que el proceso de aprendizaje está luchando para capturar la sutil moderación de la fuerza de propulsión necesaria en esta situación.\n",
    "\n",
    "**Accionamiento de propulsores tras el aterrizaje**: En algunos casos, el agente aterriza, pero sigue activando algún propulsor, lo cual provoca movimientos innecesarios y a veces perjudiciales después de haber alcanzado la superficie. Este comportamiento sugiere que el agente no está comprendiendo completamente que ya ha logrado el objetivo de aterrizar y, por tanto, debería mantener la nave quieta. Este problema podría derivar de una falta de señalización clara en el modelo de que ha alcanzado una posición estable en el suelo, o una dificultad en la asignación de recompensas que le indiquen que, tras el aterrizaje, debe cesar sus esfuerzos de corrección de posición.\n",
    "\n",
    "**Aterrizaje fuera del área objetivo sin intentar corregir**: Otro problema detectado es que el agente, al aterrizar fuera del área objetivo, en algunos momentos deja de usar los propulsores para intentar reposicionarse en la zona correcta. En estas situaciones, el agente parece considerar que ha cumplido su objetivo simplemente por haber aterrizado, incluso si se encuentra en una posición incorrecta. Esto puede deberse a que, al encontrar un estado de equilibrio en el suelo, el agente asume que no hay necesidad de seguir moviéndose. Sin embargo, para un desempeño adecuado, debería ser capaz de distinguir entre un aterrizaje exitoso en la zona objetivo y uno fuera de ella, tomando las acciones necesarias para corregir su posición si es necesario.\n",
    "\n",
    "**Selección incorrecta de propulsores al estar en el suelo**: Cuando el agente se encuentra en el suelo, especialmente en una rampa o en una posición inclinada, a veces utiliza los propulsores de manera inapropiada, impulsándose en la dirección equivocada. Este comportamiento parece ser el resultado de que el agente ha aprendido a estabilizar su ángulo mientras está en el aire, y aplica la misma estrategia en el suelo, aunque la dinámica es diferente. En el aire, el control del ángulo es esencial para mantener la estabilidad de la nave, pero en el suelo, el mismo comportamiento puede resultar en movimientos en dirección contraria a la necesaria para reposicionarse. Esto es particularmente evidente cuando la nave aterriza fuera del área objetivo, donde debería intentar moverse hacia la zona de aterrizaje, pero elige el propulsor equivocado y termina alejándose más.\n",
    "\n",
    "## 6.3 Análisis de los casos de éxito\n",
    "En los casos de éxito, el agente cumplió con algunos comportamientos observados (y en general opuesto a los problemas que se daban en los casos de fracaso) para lograrlo:\n",
    "\n",
    "**Moderación de los propulsores laterales**:  El agente tendía a lograr los casos de éxito cuando se lograba mantener cerca del centro intercalando de forma correcta y repetida el uso de los propulsores laterales para tener una caída lo más “recta” posible.\n",
    "\n",
    "**Correcto uso del propulsor principal**: Fue importante el uso del propulsor principal cerca del suelo, debído a que evitaba que el agente no estrellara, permitiendo un buen comportamiento en esos momentos críticos.\n",
    "\n",
    "**Aprovechamiento de la acción 0**: En varios de los casos de éxito que se daban, el agente lograba aprovechar la acción de “no hacer nada”. Esta acción es importante al momento de tener una caída que va en dirección al área de aterrizaje, además de que era importante que la intercalara con el propulsor principal."
   ]
  },
  {
   "cell_type": "markdown",
   "id": "10191513",
   "metadata": {},
   "source": [
    "## 6.4 Análisis de algunos 'cortes' de la matriz Q \n",
    "\n",
    "En este apartado, se analizan las decisiones que toma el agente entrenado bajo condiciones específicas del estado de la nave. El enfoque principal de este análisis es identificar las acciones recomendadas por la tabla Q del agente cuando la nave se encuentra en situaciones críticas.\n",
    "\n",
    "##### Cayendo rápido y sin rotación\n",
    "La primera condición analizada es cuando la nave está cayendo rápidamente sin rotación significativa. Para detectar esta situación, se define un rango de bins para la velocidad vertical (y_vel) que representa una caída rápida, mientras que tanto el ángulo de la nave (theta) como su velocidad angular (theta_vel) deben estar dentro de un rango cercano a cero, indicando que la nave está alineada verticalmente sin rotar. Los resultados obtenidos indican las veces que el agente ha seleccionado cada una de las acciones posibles bajo esta condición."
   ]
  },
  {
   "cell_type": "code",
   "execution_count": 90,
   "id": "7041566f",
   "metadata": {},
   "outputs": [
    {
     "name": "stdout",
     "output_type": "stream",
     "text": [
      "Condición: cayendo rápido y sin rotación\n",
      "Acción 0 (no hacer nada): 2183 veces\n",
      "Acción 1 (activar propulsor izquierdo): 1713 veces\n",
      "Acción 2 (activar motor principal): 2451 veces\n",
      "Acción 3 (activar propulsor derecho): 1077 veces\n"
     ]
    }
   ],
   "source": [
    "# Condición: cayendo rápido y sin rotación\n",
    "bins_cayendo_rapido = list(range(0, 7))  # Velocidad vertical rapida (negativa)\n",
    "bins_sin_rotacion = list(range(5, 10))  # Ángulo y velocidad angular cerca de 0\n",
    "contador_acciones = [0, 0, 0, 0]\n",
    "\n",
    "for estado, valores_q in agente.q_table.items():\n",
    "    _, _, x_vel_bin, y_vel_bin, theta_bin, theta_vel_bin, pie_izq, pie_der = estado\n",
    "    if (y_vel_bin in bins_cayendo_rapido and theta_bin in bins_sin_rotacion and theta_vel_bin in bins_sin_rotacion):\n",
    "        accion_recomendada = np.argmax(valores_q)\n",
    "        contador_acciones[accion_recomendada] += 1\n",
    "\n",
    "print('Condición: cayendo rápido y sin rotación')\n",
    "print(f'Acción 0 (no hacer nada): {contador_acciones[0]} veces')\n",
    "print(f'Acción 1 (activar propulsor izquierdo): {contador_acciones[1]} veces')\n",
    "print(f'Acción 2 (activar motor principal): {contador_acciones[2]} veces')\n",
    "print(f'Acción 3 (activar propulsor derecho): {contador_acciones[3]} veces')"
   ]
  },
  {
   "cell_type": "markdown",
   "id": "7d4a84d0",
   "metadata": {},
   "source": [
    "Como se puede observar, la acción que toma nuestro agente con mayor frecuencia es activar el motor principal, la cual puede no ser una mala opción en algunas ocasiones si el agente entiende que es mejor reducir la velocidad para reducir el impacto. Seguido de esta está que no haga nada, si el agente evalúa que su velocidad vertical no es demasiado alta o tiene una posición estable, puede optar por no accionar ningún propulsor. Finalmente aparecen las acciones de activar los propulsores laterales, los cuales no son una opción deseada ya que pueden descarrilar al agente de su objetivo final. A pesar de que el orden de las acciones es el esperado, la proporción no es tan alejada, lo cual podría ser un punto débil de nuestro agente.\n",
    "\n",
    "##### Rotación sin control hacia la izquierda\n",
    "La segunda condición analizada es cuando la nave está rotando de forma incontrolada hacia la izquierda. Para capturar este estado, se utilizan los bins correspondientes a un ángulo y una velocidad angular negativos, lo que indica una inclinación y rotación hacia la izquierda. Se evalúan las decisiones del agente en estos casos para determinar qué acciones prefiere tomar para corregir o controlar la situación."
   ]
  },
  {
   "cell_type": "code",
   "execution_count": 89,
   "id": "f40316f7",
   "metadata": {},
   "outputs": [
    {
     "name": "stdout",
     "output_type": "stream",
     "text": [
      "Condición: rotación sin control hacia la izquierda\n",
      "Acción 0 (no hacer nada): 128 veces\n",
      "Acción 1 (activar propulsor izquierdo): 178 veces\n",
      "Acción 2 (activar motor principal): 98 veces\n",
      "Acción 3 (activar propulsor derecho): 57 veces\n"
     ]
    }
   ],
   "source": [
    "bins_rotacion_izquierda = list(range(0, 5))  # Theta_vel negativa (sentido antihorario)\n",
    "bins_inclinacion_izquierda = list(range(0, 5))  # Theta negativo (inclinación hacia la izquierda)\n",
    "contador_acciones = [0, 0, 0, 0]\n",
    "for estado, valores_q in agente.q_table.items():\n",
    "    _, _, _, _, theta_bin, theta_vel_bin, pie_izq, pie_der = estado\n",
    "    if (theta_vel_bin in bins_rotacion_izquierda and theta_bin in bins_inclinacion_izquierda):\n",
    "        accion_recomendada = np.argmax(valores_q)\n",
    "        contador_acciones[accion_recomendada] += 1\n",
    "\n",
    "print('Condición: rotación sin control hacia la izquierda')\n",
    "print(f'Acción 0 (no hacer nada): {contador_acciones[0]} veces')\n",
    "print(f'Acción 1 (activar propulsor izquierdo): {contador_acciones[1]} veces')\n",
    "print(f'Acción 2 (activar motor principal): {contador_acciones[2]} veces')\n",
    "print(f'Acción 3 (activar propulsor derecho): {contador_acciones[3]} veces')"
   ]
  },
  {
   "cell_type": "markdown",
   "id": "6da9a73a",
   "metadata": {},
   "source": [
    "En este caso, también ocurrió lo que se esperaba con más frecuencia. Cuando el agente está girando sin control en sentido antihorario, lo que nuestro agente suele hacer es activar el propulsor izquierdo para poder enderezar al agente. De todas formas no hacer nada es la opción que le sigue de forma muy cercana como alternativa.\n",
    "\n",
    "##### Rotación sin control hacia la derecha\n",
    "Finalmente, se considera el caso opuesto, donde la nave está rotando sin control hacia la derecha. En este escenario, se seleccionan los bins correspondientes a ángulos y velocidades angulares positivas. Al igual que en el caso anterior, se examinan las acciones seleccionadas por el agente para estabilizar la nave o corregir la rotación.\n",
    "\n"
   ]
  },
  {
   "cell_type": "code",
   "execution_count": 88,
   "id": "830fbe67",
   "metadata": {},
   "outputs": [
    {
     "name": "stdout",
     "output_type": "stream",
     "text": [
      "Condición: rotación sin control hacia la derecha\n",
      "Acción 0 (no hacer nada): 165 veces\n",
      "Acción 1 (activar propulsor izquierdo): 232 veces\n",
      "Acción 2 (activar motor principal): 125 veces\n",
      "Acción 3 (activar propulsor derecho): 91 veces\n"
     ]
    }
   ],
   "source": [
    "# Condición: rotación sin control hacia la derecha\n",
    "bins_rotacion_derecha = list(range(10, 15))  # Theta_vel positiva (sentido horario)\n",
    "bins_inclinacion_derecha = list(range(10, 15))  # Theta positiva (inclinación hacia la derecha)\n",
    "contador_acciones = [0, 0, 0, 0]\n",
    "for estado, valores_q in agente.q_table.items():\n",
    "    _, _, _, _, theta_bin, theta_vel_bin, pie_izq, pie_der = estado\n",
    "    if (theta_vel_bin in bins_rotacion_derecha and theta_bin in bins_inclinacion_derecha):\n",
    "        accion_recomendada = np.argmax(valores_q)\n",
    "        contador_acciones[accion_recomendada] += 1\n",
    "print('Condición: rotación sin control hacia la derecha')\n",
    "print(f'Acción 0 (no hacer nada): {contador_acciones[0]} veces')\n",
    "print(f'Acción 1 (activar propulsor izquierdo): {contador_acciones[1]} veces')\n",
    "print(f'Acción 2 (activar motor principal): {contador_acciones[2]} veces')\n",
    "print(f'Acción 3 (activar propulsor derecho): {contador_acciones[3]} veces')\n"
   ]
  },
  {
   "cell_type": "markdown",
   "id": "0e2cce03",
   "metadata": {},
   "source": [
    "En el caso de la rotación sin control hacia la derecha, los resultados muestran algo interesante. Aunque el agente debería estar activando el propulsor derecho con más frecuencia para corregir la rotación hacia la derecha, lo que más hace es activar el propulsor izquierdo, lo cual no es lo ideal. Esto sugiere que el agente no está aprendiendo correctamente cómo estabilizarse en esta situación. Además, aunque la opción de no hacer nada también aparece bastante, lo que sería razonable en algunos casos, las acciones de activar el motor principal y el propulsor derecho (que sí deberían ayudar a contrarrestar la rotación) se eligen mucho menos de lo que deberían, lo cual es un comportamiento que habría que mejorar."
   ]
  },
  {
   "cell_type": "markdown",
   "id": "f0214954",
   "metadata": {},
   "source": [
    "## 6.5 Posibles mejoras para el algoritmo:\n",
    "##### Implementación de retrocesos: \n",
    "Una posible mejora sería implementar la técnica de retrocesos que se menciona en el material teórico. Esta técnica puede ser muy beneficiosa para optimizar los tiempos de aprendizaje en Q-learning. Los retrocesos permitirían que el agente aprenda de manera más eficiente, especialmente en situaciones donde la exploración inicial del espacio de estados no es lo suficientemente completa. Al permitir que el agente realice revisiones o correcciones sobre decisiones previas, podría mejorar la convergencia y hacer que el aprendizaje sea más rápido.\n",
    "\n",
    "##### Uso de un alfa variable:\n",
    " Actualmente, el algoritmo emplea una fórmula de Q-learning no determinista con un valor de alfa fijo. Sin embargo, este valor de alfa fijo podría no ser el más eficiente a lo largo del proceso de aprendizaje. Una mejora posible sería implementar un alfa variable que se ajuste en función de la cantidad de veces que un estado ha sido visitado. Esto permitiría que los estados más explorados (y que han tenido suficientes actualizaciones) reciban un peso menor en las actualizaciones de Q(s, a), mientras que los estados menos visitados puedan ser actualizados más rápidamente. De este modo, el agente variaría menos el valor de Q(s, a) para aquellas entradas que fueron evaluadas muchas veces. "
   ]
  },
  {
   "cell_type": "markdown",
   "id": "e517726a",
   "metadata": {},
   "source": [
    "# **7. Conclusión**\n",
    "\n",
    "Mediante experimentación, se ajustaron los parámetros del algoritmo, logrando un rendimiento superior al criterio de éxito establecido. Los valores seleccionados para los parámetros clave fueron `gamma = 0.99`, `alpha = 0.1`, `epsilon_min = 0.01` y `epsilon_decay = 0.999`. Esta configuración permitió al agente enfocarse en las recompensas a largo plazo, manteniendo una fase de exploración prolongada antes de pasar a una explotación eficiente de lo aprendido.\n",
    "\n",
    "Se utilizaron 50,000 episodios para entrenar completamente al agente y 1,000 episodios adicionales para evaluar los resultados. El comportamiento del agente mostró una mejora continua en la tasa de éxito (acumulada) como también en la recompensa promedio durante la fase de aprendizaje, la cual se estabilizó una vez que comenzó a aplicar lo aprendido en la fase de explotación.\n",
    "\n",
    "Se identificaron casos de fracaso, como la falta de moderación del propulsor al acercarse al suelo, lo que llevó a aterrizajes inadecuados. Asimismo, el agente a veces activaba propulsores innecesariamente tras aterrizar y no intentaba corregir su posición cuando aterrizaba fuera del área designada. Estos problemas destacan la necesidad de un aprendizaje más preciso sobre las condiciones críticas de aterrizaje. Además, la mayoría de los casos de éxito se daban cuando estos puntos de defecto no eran ejecutados por el agente, lo cual da mayor importancia a su identificación y análisis en ejecución.\n",
    "\n",
    "A pesar de este rendimiento, se observaron algunas limitaciones en situaciones específicas, como la rotación hacia la derecha, donde el agente no siempre tomó decisiones óptimas. Para mejorar estos resultados, se podrían explorar ajustes como el uso de un `alpha` variable o la implementación de retrocesos, lo que permitiría optimizar aún más el rendimiento del agente en escenarios complejos.\n",
    "\n"
   ]
  }
 ],
 "metadata": {
  "kernelspec": {
   "display_name": "Python 3",
   "language": "python",
   "name": "python3"
  },
  "language_info": {
   "codemirror_mode": {
    "name": "ipython",
    "version": 3
   },
   "file_extension": ".py",
   "mimetype": "text/x-python",
   "name": "python",
   "nbconvert_exporter": "python",
   "pygments_lexer": "ipython3",
   "version": "3.10.0"
  }
 },
 "nbformat": 4,
 "nbformat_minor": 5
}
