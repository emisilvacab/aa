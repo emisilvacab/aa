{
  "cells": [
    {
      "cell_type": "markdown",
      "metadata": {
        "id": "3orGYdTsjIVo"
      },
      "source": [
        "# Tarea 4 - Redes Neuronales\n",
        "\n",
        "### Grupo 8:\n",
        "     - Matías González 5199522-2\n",
        "     - Leonardo Melgar 5206567-4\n",
        "     - Emiliano Silva 5127389-8\n"
      ]
    },
    {
      "cell_type": "markdown",
      "metadata": {
        "id": "ad3wvMBwjZOb"
      },
      "source": [
        "# 1. Objetivo\n",
        "\n",
        "Este laboratorio tiene por objetivos:\n",
        "\n",
        "a) la construcción, utilizando bibliotecas de código abierto, de algoritmos basados en redes neuronales para ser aplicadas sobre un problema de clasificación\n",
        "\n",
        "b) la evaluación de los modelos construidos\n"
      ]
    },
    {
      "cell_type": "markdown",
      "metadata": {
        "id": "M5GjEpMjCu-g"
      },
      "source": [
        "# 2. Diseño"
      ]
    },
    {
      "cell_type": "markdown",
      "metadata": {
        "id": "tdCnWgeHnF5c"
      },
      "source": [
        "## 2.1 Preparación y División de Conjuntos de Datos para Entrenamiento, Validación y Test"
      ]
    },
    {
      "cell_type": "code",
      "execution_count": 2,
      "metadata": {
        "id": "euM3VB8XSjfj"
      },
      "outputs": [],
      "source": [
        "import pandas as pd\n",
        "from sklearn.model_selection import train_test_split\n",
        "from lab4 import *"
      ]
    },
    {
      "cell_type": "code",
      "execution_count": 3,
      "metadata": {
        "id": "WzUNW_5M7kdd"
      },
      "outputs": [],
      "source": [
        "# 1. Cargar el dataset\n",
        "dataset = pd.read_csv(\"./lab1_dataset.csv\")\n",
        "preprocessed_dataset = dataset.drop([\"cid\", \"pidnum\", \"time\"], axis=1)\n",
        "target_column = dataset[\"cid\"]\n",
        "\n",
        "# Dividir en 80% entrenamiento y 20% test\n",
        "dataset_train_full, dataset_test, target_train_full, target_test = train_test_split(\n",
        "    preprocessed_dataset,\n",
        "    target_column,\n",
        "    test_size=0.2,\n",
        "    random_state=42,\n",
        "    stratify=target_column,\n",
        ")\n",
        "\n",
        "# Separar 10% del conjunto de entrenamiento completo para validación\n",
        "dataset_train, dataset_val, target_train, target_val = train_test_split(\n",
        "    dataset_train_full,\n",
        "    target_train_full,\n",
        "    test_size=0.1,\n",
        "    random_state=42,\n",
        "    stratify=target_train_full,\n",
        ")"
      ]
    },
    {
      "cell_type": "markdown",
      "metadata": {},
      "source": [
        "Usamos stratify=target_column para asegurar que la proporción de clases en los conjuntos de entrenamiento y prueba sea representativa de la del conjunto de datos original. Esto ocasiona que la distribución de las clases en el conjunto de entrenamiento sea equivalente a la del conjunto completo, lo cual es fundamental en problemas con desbalance de clases.\n",
        "\n",
        "\n",
        "El conjunto de validación permite ajustar los hiperparámetros sin emplear el conjunto de testeo final, evitando posibles problemas de sobreajuste.\n"
      ]
    },
    {
      "cell_type": "code",
      "execution_count": 3,
      "metadata": {},
      "outputs": [
        {
          "name": "stdout",
          "output_type": "stream",
          "text": [
            "Tamaño del conjunto de datos completo: 2139\n",
            "Tamaño del conjunto de entrenamiento completo: 1711\n",
            "Tamaño del conjunto de entrenamiento: 1539\n",
            "Tamaño del conjunto de validación: 172\n",
            "Tamaño del conjunto de test: 428\n"
          ]
        }
      ],
      "source": [
        "# Mostrar los tamaños de los conjuntos\n",
        "print(f\"Tamaño del conjunto de datos completo: {preprocessed_dataset.shape[0]}\")\n",
        "print(f\"Tamaño del conjunto de entrenamiento completo: {dataset_train_full.shape[0]}\")\n",
        "print(f\"Tamaño del conjunto de entrenamiento: {dataset_train.shape[0]}\")\n",
        "print(f\"Tamaño del conjunto de validación: {dataset_val.shape[0]}\")\n",
        "print(f\"Tamaño del conjunto de test: {dataset_test.shape[0]}\")"
      ]
    },
    {
      "cell_type": "markdown",
      "metadata": {
        "id": "FwjSTwGACu-i"
      },
      "source": [
        "## 2.2 Modelo de Regresión Logística"
      ]
    },
    {
      "cell_type": "code",
      "execution_count": 7,
      "metadata": {},
      "outputs": [
        {
          "name": "stdout",
          "output_type": "stream",
          "text": [
            "Accuracy en el conjunto de validación: 0.8488\n"
          ]
        }
      ],
      "source": [
        "from sklearn.linear_model import LogisticRegression\n",
        "from sklearn.metrics import accuracy_score\n",
        "from sklearn.preprocessing import StandardScaler\n",
        "\n",
        "# Inicializar el escalador\n",
        "scaler = StandardScaler()\n",
        "\n",
        "# Ajustar el escalador y transformar los conjuntos de entrenamiento y validación\n",
        "dataset_train_scaled = scaler.fit_transform(dataset_train)\n",
        "dataset_val_scaled = scaler.transform(dataset_val)\n",
        "\n",
        "# Inicializar el modelo de regresión logística\n",
        "logistic_model = LogisticRegression(max_iter=1000, random_state=42)\n",
        "\n",
        "# Entrenar el modelo con el conjunto de entrenamiento\n",
        "logistic_model.fit(dataset_train_scaled, target_train)\n",
        "\n",
        "# Realizar predicciones en el conjunto de validación\n",
        "target_pred_val = logistic_model.predict(dataset_val_scaled)\n",
        "\n",
        "# Calcular la accuracy en el conjunto de validación\n",
        "accuracy_val = accuracy_score(target_val, target_pred_val)\n",
        "print(f\"Accuracy en el conjunto de validación: {accuracy_val:.4f}\")"
      ]
    },
    {
      "cell_type": "markdown",
      "metadata": {},
      "source": [
        "### `LogisticRegression`\n",
        "\n",
        "- Estima la probabilidad de que una observación pertenezca a una clase específica utilizando una función logística, adecuada para clasificación binaria.\n",
        "\n",
        "- Asume una relación lineal entre las características y el logaritmo de las probabilidades.\n",
        "\n",
        "- Los coeficientes son fácilmente interpretables en términos de su efecto en la probabilidad de la clase.\n",
        "\n",
        "- El uso de `StandardScaler` es crucial para asegurar que todas las características tengan igual peso en el modelo."
      ]
    },
    {
      "cell_type": "markdown",
      "metadata": {},
      "source": [
        "### Escalado de Datos\n",
        "\n",
        "Se aplicó `StandardScaler` para estandarizar los datos, transformando las características para que tengan una media de 0 y una desviación estándar de 1.\n",
        "Se ajustó el escalador `fit_transform` en el conjunto de entrenamiento y luego se aplicó `transform` en el conjunto de validación.\n",
        "\n",
        "La estandarización de los datos es una práctica común en modelos como regresión logística para asegurar que todas las características tengan la misma escala, lo cual facilita la convergencia y mejora la estabilidad numérica.\n",
        "\n",
        "Importante no olvidar también escalar el conjunto de test con el mismo escalador `scaler` cuando se haga la evaluación final!"
      ]
    },
    {
      "cell_type": "markdown",
      "metadata": {},
      "source": [
        "### Entrenamiento del Modelo\n",
        "\n",
        "Se utilizó `max_iter=1000` para permitir más iteraciones y evitar problemas de convergencia.\n",
        "\n",
        "Se entrenó el modelo usando el conjunto de datos de entrenamiento escalado `dataset_train_scaled` y sus clases objetivo correspondientes `target_train`."
      ]
    },
    {
      "cell_type": "markdown",
      "metadata": {},
      "source": [
        "### Evaluación del Modelo en el Conjunto de Validación\n",
        "\n",
        "Se utilizó el modelo entrenado para hacer predicciones en el conjunto de validación.\n",
        "\n",
        "La `accuracy` se calculó comparando las predicciones con las clases verdaderas del conjunto de validación `target_val`, obteniendo un valor de `0.8488`. Este resultado ofrece una estimación de la capacidad del modelo para generalizar a datos no vistos."
      ]
    },
    {
      "cell_type": "markdown",
      "metadata": {},
      "source": [
        "## 2.3 Red neuronal de una neurona lineal\n",
        "\n",
        "Sin función de activación, con dos salidas, una para cada clase objetivo posible del conjunto de datos"
      ]
    },
    {
      "cell_type": "code",
      "execution_count": 7,
      "metadata": {},
      "outputs": [
        {
          "name": "stdout",
          "output_type": "stream",
          "text": [
            "Epoch [10/100], Train Loss: 0.6454, Train Accuracy: 0.6407, Val Loss: 0.6068, Val Accuracy: 0.6977\n",
            "Epoch [20/100], Train Loss: 0.6291, Train Accuracy: 0.6608, Val Loss: 0.5898, Val Accuracy: 0.7035\n",
            "Epoch [30/100], Train Loss: 0.6150, Train Accuracy: 0.6842, Val Loss: 0.5752, Val Accuracy: 0.7209\n",
            "Epoch [40/100], Train Loss: 0.6027, Train Accuracy: 0.6959, Val Loss: 0.5626, Val Accuracy: 0.7616\n",
            "Epoch [50/100], Train Loss: 0.5919, Train Accuracy: 0.7102, Val Loss: 0.5516, Val Accuracy: 0.7849\n",
            "Epoch [60/100], Train Loss: 0.5824, Train Accuracy: 0.7212, Val Loss: 0.5419, Val Accuracy: 0.7907\n",
            "Epoch [70/100], Train Loss: 0.5740, Train Accuracy: 0.7264, Val Loss: 0.5333, Val Accuracy: 0.7849\n",
            "Epoch [80/100], Train Loss: 0.5665, Train Accuracy: 0.7388, Val Loss: 0.5257, Val Accuracy: 0.7965\n",
            "Epoch [90/100], Train Loss: 0.5597, Train Accuracy: 0.7420, Val Loss: 0.5189, Val Accuracy: 0.8140\n",
            "Epoch [100/100], Train Loss: 0.5536, Train Accuracy: 0.7453, Val Loss: 0.5127, Val Accuracy: 0.8140\n"
          ]
        }
      ],
      "source": [
        "import torch\n",
        "import torch.nn as nn\n",
        "import torch.optim as optim\n",
        "import matplotlib.pyplot as plt\n",
        "\n",
        "# Convertir los datos a tensores\n",
        "dataset_train_tensor = torch.FloatTensor(dataset_train_scaled)\n",
        "target_train_tensor = torch.LongTensor(target_train.values)  # Asegúrate de que 'target_train' sea un arreglo de enteros\n",
        "dataset_val_tensor = torch.FloatTensor(dataset_val_scaled)\n",
        "target_val_tensor = torch.LongTensor(target_val.values)\n",
        "\n",
        "# Definir el modelo\n",
        "class SimpleNN(nn.Module):\n",
        "    def __init__(self):\n",
        "        super(SimpleNN, self).__init__()\n",
        "        self.linear = nn.Linear(dataset_train_tensor.shape[1], 2)  # Asumiendo 2 clases\n",
        "\n",
        "    def forward(self, x):\n",
        "        return self.linear(x)\n",
        "\n",
        "# Inicializar el modelo, la función de pérdida y el optimizador\n",
        "model = SimpleNN()\n",
        "criterion = nn.CrossEntropyLoss()\n",
        "optimizer = optim.SGD(model.parameters(), lr=0.01)\n",
        "\n",
        "# Variables para almacenar la pérdida y precisión\n",
        "train_loss_history = []\n",
        "val_loss_history = []\n",
        "train_accuracy_history = []\n",
        "val_accuracy_history = []\n",
        "\n",
        "# Entrenamiento del modelo\n",
        "num_epochs = 100\n",
        "for epoch in range(num_epochs):\n",
        "    # Entrenamiento\n",
        "    model.train()\n",
        "    optimizer.zero_grad()\n",
        "    outputs = model(dataset_train_tensor)\n",
        "    loss = criterion(outputs, target_train_tensor)\n",
        "    loss.backward()\n",
        "    optimizer.step()\n",
        "\n",
        "    # Calcular precisión de entrenamiento\n",
        "    _, predicted_train = torch.max(outputs.data, 1)\n",
        "    train_accuracy = (predicted_train == target_train_tensor).sum().item() / len(target_train_tensor)\n",
        "\n",
        "    # Validación\n",
        "    model.eval()\n",
        "    with torch.no_grad():\n",
        "        val_outputs = model(dataset_val_tensor)\n",
        "        val_loss = criterion(val_outputs, target_val_tensor)\n",
        "\n",
        "        # Calcular precisión de validación\n",
        "        _, predicted_val = torch.max(val_outputs.data, 1)\n",
        "        val_accuracy = (predicted_val == target_val_tensor).sum().item() / len(target_val_tensor)\n",
        "\n",
        "    # Guardar estadísticas\n",
        "    train_loss_history.append(loss.item())\n",
        "    val_loss_history.append(val_loss.item())\n",
        "    train_accuracy_history.append(train_accuracy)\n",
        "    val_accuracy_history.append(val_accuracy)\n",
        "\n",
        "    # Imprimir información de cada época\n",
        "    if (epoch+1) % 10 == 0:\n",
        "        print(f'Epoch [{epoch+1}/{num_epochs}], Train Loss: {loss.item():.4f}, Train Accuracy: {train_accuracy:.4f}, Val Loss: {val_loss.item():.4f}, Val Accuracy: {val_accuracy:.4f}')\n"
      ]
    },
    {
      "cell_type": "code",
      "execution_count": 8,
      "metadata": {},
      "outputs": [
        {
          "data": {
            "image/png": "[encoded data removed]",
            "text/plain": [
              "<Figure size 1200x500 with 2 Axes>"
            ]
          },
          "metadata": {},
          "output_type": "display_data"
        }
      ],
      "source": [
        "## 3.6. Graficar la pérdida y la precisión\n",
        "plt.figure(figsize=(12, 5))\n",
        "\n",
        "## Gráfica de la pérdida\n",
        "plt.subplot(1, 2, 1)\n",
        "plt.plot(train_loss_history, label='Train Loss')\n",
        "plt.plot(val_loss_history, label='Validation Loss')\n",
        "plt.title('Loss vs Epochs')\n",
        "plt.xlabel('Epochs')\n",
        "plt.ylabel('Loss')\n",
        "plt.legend()\n",
        "\n",
        "## Gráfica de la precisión\n",
        "plt.subplot(1, 2, 2)\n",
        "plt.plot(train_accuracy_history, label='Train Accuracy')\n",
        "plt.plot(val_accuracy_history, label='Validation Accuracy')\n",
        "plt.title('Accuracy vs Epochs')\n",
        "plt.xlabel('Epochs')\n",
        "plt.ylabel('Accuracy')\n",
        "plt.legend()\n",
        "\n",
        "plt.show()"
      ]
    },
    {
      "cell_type": "markdown",
      "metadata": {},
      "source": [
        "## X.X Experimentando con diferentes arquitecturas\n",
        "\n",
        "A partir de los resultados anteriores, en esta sección propondremos tres arquitecturas adicionales que busquen mejorar los resultados, modificando la cantidad de unidades, la cantidad de capas ocultas, y/o diferentes funciones de activación. Para cada una, evaluaremos\n",
        "sus rendimientos sobre el conjunto de validación, con diferentes valores de tasa de aprendizaje. Llamaremos Modelo 5 al modelo con mejores\n",
        "resultados sobre el conjunto de validación."
      ]
    },
    {
      "cell_type": "markdown",
      "metadata": {},
      "source": [
        "### Arquitectura 1 (sin función de activación, capa oculta de 16 unidades, 1 salida)\n",
        "La Arquitectura 1 fue diseñada para observar el efecto de una capa oculta en una red sin función de activación en la salida. Este modelo buscaba analizar si agregar una capa oculta con 16 unidades permitiría captar relaciones no tan directas en los datos. Sin embargo, la precisión obtenida fue baja (alrededor de 36%), lo que indica que, pese a contar con una capa oculta, la ausencia de una función de activación en la salida y el tener una sola salida limita su capacidad de interpretación.\n",
        "\n",
        "Además, se experimentó con tasas de aprendizaje diferentes. El rendimiento varió, alcanzando una precisión máxima de 45.48% en entrenamiento y 45.93% en validación con una tasa de aprendizaje de 0.001, pero decayó con una tasa de 0.1, mostrando que esta arquitectura es sensible a la elección de tasa de aprendizaje, aunque en general no alcanza buenos resultados.\n"
      ]
    },
    {
      "cell_type": "code",
      "execution_count": null,
      "metadata": {},
      "outputs": [],
      "source": [
        "learning_rates = [0.001, 0.01, 0.1]\n",
        "\n",
        "# Modelo 5.1\n",
        "input_size = dataset_train_scaled.shape[1]\n",
        "hidden_layers = [16]\n",
        "output_size = 1\n",
        "activation_fn = None\n",
        "loss_fn = nn.CrossEntropyLoss()\n",
        "optimizer_fn = lambda params: torch.optim.Adam(params, lr=0.01)\n",
        "num_epochs = 100\n",
        "\n",
        "for lr in learning_rates:\n",
        "    print(\"-------------------------------------------------------------------------------------------\")\n",
        "    print(f\"Entrenando modelo 5.1 con tasa de aprendizaje: {lr}\")\n",
        "    optimizer_fn = lambda params: torch.optim.Adam(params, lr=lr)\n",
        "    trained_model51 = train_model(input_size, hidden_layers, output_size, activation_fn, loss_fn, optimizer_fn, num_epochs)\n",
        "\n",
        "del optimizer_fn, loss_fn"
      ]
    },
    {
      "cell_type": "markdown",
      "metadata": {},
      "source": [
        "### Arquitectura 2 (2 salidas, sin función de activación, 2 capas ocultas de 16 unidades cada una)\n",
        "\n",
        "La Arquitectura 2 se diseñó basada en el buen desempeño del Modelo 2, el cual demostró que tener una salida específica para cada clase mejora la precisión (83.14% en este modelo). Para esta arquitectura, se agregaron dos capas ocultas de 16 unidades cada una, incrementando la capacidad de representación del modelo.\n",
        "\n",
        "Las pruebas con diferentes tasas de aprendizaje mostraron que la arquitectura es bastante robusta a estos cambios, alcanzando una precisión de hasta 84.30% con una tasa de aprendizaje de 0.1. Creemos que la mejora respecto a la Arquitectura 1 se debe más a tener dos salidas que al incremento de capas ocultas.\n"
      ]
    },
    {
      "cell_type": "code",
      "execution_count": null,
      "metadata": {},
      "outputs": [],
      "source": [
        "input_size = dataset_train_scaled.shape[1]\n",
        "hidden_layers = [16, 16]\n",
        "output_size = 2\n",
        "activation_fn = None\n",
        "loss_fn = nn.CrossEntropyLoss()\n",
        "optimizer_fn = lambda params: torch.optim.SGD(params, lr=0.01, momentum=0.9)\n",
        "num_epochs = 100\n",
        "\n",
        "for lr in learning_rates:\n",
        "    print(\"-------------------------------------------------------------------------------------------\")\n",
        "    print(f\"Entrenando modelo 5.2 con tasa de aprendizaje: {lr}\")\n",
        "    optimizer_fn = lambda params: torch.optim.SGD(params, lr=lr, momentum=0.9)\n",
        "    trained_model52 = train_model(input_size, hidden_layers, output_size, activation_fn, loss_fn, optimizer_fn, num_epochs)\n",
        "\n",
        "del optimizer_fn, loss_fn"
      ]
    },
    {
      "cell_type": "markdown",
      "metadata": {},
      "source": [
        "### Arquitectura 3 (función de activación sigmoide, sin capas ocultas, 2 salidas)\n",
        "\n",
        "Para la Arquitectura 3, se utilizó una sola capa con dos salidas y una función de activación sigmoide, lo cual fue efectivo para lograr una precisión máxima de 83%. Se mantuvo la idea de utilizar dos salidas independientes para cada clase, optimizando así el aprendizaje de probabilidades para cada una.\n",
        "\n",
        "Al variar las tasas de aprendizaje, el modelo mostró que responde favorablemente a estas modificaciones, alcanzando una precisión de validación de 84.88% con una tasa de 0.1. Esto sugiere que tener dos salidas y una activación sigmoide es una configuración poderosa y flexible en términos de aprendizaje.\n"
      ]
    },
    {
      "cell_type": "code",
      "execution_count": null,
      "metadata": {},
      "outputs": [],
      "source": [
        "input_size = dataset_train_scaled.shape[1]\n",
        "hidden_layers = []\n",
        "output_size = 2\n",
        "activation_fn = nn.Sigmoid()\n",
        "loss_fn = nn.CrossEntropyLoss()\n",
        "optimizer_fn = lambda params: torch.optim.SGD(params, lr=0.01, momentum=0.9)\n",
        "num_epochs = 100\n",
        "\n",
        "for lr in learning_rates:\n",
        "    print(\"-------------------------------------------------------------------------------------------\")\n",
        "    print(f\"Entrenando modelo 5.3 con tasa de aprendizaje: {lr}\")\n",
        "    optimizer_fn = lambda params: torch.optim.SGD(params, lr=lr, momentum=0.9)\n",
        "    trained_model53 = train_model(input_size, hidden_layers, output_size, activation_fn, loss_fn, optimizer_fn, num_epochs)\n",
        "\n",
        "del optimizer_fn, loss_fn\n",
        "\n",
        "del trained_model51, trained_model52, trained_model53\n",
        "torch.cuda.empty_cache()"
      ]
    },
    {
      "cell_type": "markdown",
      "metadata": {},
      "source": [
        "### Elección de Modelo 5\n",
        "\n",
        "Finalmente decidimos que nuestro “Modelo 5” sería el entrenado con la arquitectura 3. Además de que demostró ser levemente mejor en casi todas las tasas de aprendizaje, lo elegimos porque creemos que el factor crucial del mejor rendimiento es tener dos salidas, dado que el modelo aprende a estimar una probabilidad independiente para cada clase. Esto le permite ajustar el valor para cada clase de forma más explícita, no dependiendo de transformar la única salida en una probabilidad para una clase y deducir la otra por complementariedad, lo que le da más flexibilidad en su proceso de aprendizaje. Además, tener una capa sola ha demostrado ser mejor en los modelos 2, 3 y 4, lo cual también aportó en la decisión. "
      ]
    },
    {
      "cell_type": "markdown",
      "metadata": {
        "id": "OYDStq4xCu-i"
      },
      "source": [
        "# 3. Experimentación"
      ]
    },
    {
      "cell_type": "markdown",
      "metadata": {
        "id": "i8pLzSioCu-k"
      },
      "source": [
        "# 4. Conclusión"
      ]
    }
  ],
  "metadata": {
    "colab": {
      "collapsed_sections": [
        "ad3wvMBwjZOb"
      ],
      "provenance": []
    },
    "kernelspec": {
      "display_name": "Python 3",
      "language": "python",
      "name": "python3"
    },
    "language_info": {
      "codemirror_mode": {
        "name": "ipython",
        "version": 3
      },
      "file_extension": ".py",
      "mimetype": "text/x-python",
      "name": "python",
      "nbconvert_exporter": "python",
      "pygments_lexer": "ipython3",
      "version": "3.10.12"
    }
  },
  "nbformat": 4,
  "nbformat_minor": 0
}
